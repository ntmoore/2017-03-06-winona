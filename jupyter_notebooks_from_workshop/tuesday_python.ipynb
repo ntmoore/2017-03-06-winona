{
 "cells": [
  {
   "cell_type": "markdown",
   "metadata": {},
   "source": [
    "# Tuesday AM Session\n",
    "## Plotting, Lists Loops & Functions\n",
    "\n",
    "In the first sessions on python we introduced some of the basics of using python. Data types, simple math, and then how to import and do some work on more complex word on data through pandas. Today we will take it a step further, looking at how to plot our data, then how to speed our work through loops like Hannah showed us in bash, and then writing functions. Lastly as time per mits we will look at variable scope to learn better what to do if there is an error, conditionals and wat style one should use while use python\n",
    "\n",
    "As one note, this notebook assumes:\n",
    " - that we have made a folder on our desktop \"~/Desktop/tuesday_python\"\n",
    " - in that folder we have folder name \"data\" that was extracted extracted from the \"python-novice-gapminder-data.zip\"\n",
    " - we have created our jupyter notebook file in the \"~/Desktop/tuesday_python\" directory\n",
    " \n",
    "As folks with Windows discovered, the home variable \"~/\" doesn't work, however you don't have to give the full path, you can just give the relative path. If you can give the path relative to the folder in which your jupyter notebook file is saved and running!\n",
    "\n",
    "-------------------------------------------"
   ]
  },
  {
   "cell_type": "markdown",
   "metadata": {},
   "source": [
    "### 1. Plotting\n",
    "\n",
    "There are many packages available that lets one make plots and figures in python. One popularone is [Plot.ly](https://plot.ly) which also has a way to make plots online. by far the most popular package however is the **matplotlib**, for those aware of matlab, this package was originally designed to duplicate much of matlab's functionality. Now it can do much more. We will use matplotlib today, because it is VERY easy to get plotting! We will be using the module \"pyplot\" within matplotlib\n",
    "\n",
    "First a few setup functions"
   ]
  },
  {
   "cell_type": "code",
   "execution_count": 1,
   "metadata": {
    "collapsed": false
   },
   "outputs": [],
   "source": [
    "#this tells jupyter notebook that we want the images we make to\n",
    "%matplotlib inline  \n",
    "#now we actually need import the pyplot module\n",
    "import matplotlib.pyplot as plt\n",
    "\n",
    "#add this when you get to section 1.2\n",
    "import pandas\n",
    "\n",
    "import numpy as np\n",
    "\n",
    "import glob"
   ]
  },
  {
   "cell_type": "markdown",
   "metadata": {},
   "source": [
    "#### 1.1 Now for you first plot! \n",
    "\n",
    "Lets make some data"
   ]
  },
  {
   "cell_type": "code",
   "execution_count": 2,
   "metadata": {
    "collapsed": true
   },
   "outputs": [],
   "source": [
    "# how about some x data\n",
    "x = [1,2,3,4,5]\n",
    "y = [2,4,6,8,10]\n",
    "\n",
    "#these are both examples of lists, we will talk about them more later\n",
    "#be aware that plt.plot() expects something which is list like! \n",
    "#arguments are the data, must have one x and atleast one y of the same length\n",
    "#keywards to many things, primarily related to formating.\n",
    "#like color ans style of the line"
   ]
  },
  {
   "cell_type": "markdown",
   "metadata": {},
   "source": [
    "To plot we will use plt.plot() funtion. Lets use \"help()\" to learn a bit about it"
   ]
  },
  {
   "cell_type": "code",
   "execution_count": null,
   "metadata": {
    "collapsed": false
   },
   "outputs": [],
   "source": [
    "help(plt.plot)\n",
    "#functions have arguments \"args\" and keywords \"kwargs\".\n",
    "#Arguments are required by the function while keywords are optional"
   ]
  },
  {
   "cell_type": "markdown",
   "metadata": {},
   "source": [
    "Now to plot, and we will also label the axis"
   ]
  },
  {
   "cell_type": "code",
   "execution_count": 4,
   "metadata": {
    "collapsed": false
   },
   "outputs": [
    {
     "data": {
      "text/plain": [
       "<matplotlib.text.Text at 0x7f86122fec88>"
      ]
     },
     "execution_count": 4,
     "metadata": {},
     "output_type": "execute_result"
    },
    {
     "data": {
      "image/png": "[encoded data removed]",
      "text/plain": [
       "<matplotlib.figure.Figure at 0x7f8612548d30>"
      ]
     },
     "metadata": {},
     "output_type": "display_data"
    }
   ],
   "source": [
    "plt.plot(x,y)\n",
    "plt.xlabel('Numbers')\n",
    "plt.ylabel('Doubles')"
   ]
  },
  {
   "cell_type": "markdown",
   "metadata": {},
   "source": [
    "#### 1.2 Plot with real data\n",
    "This is cool, but how about with some real data? Lets load in our pceanaia data again and set the indext to the \"country\" column. Go ahead and do this. Put your card to green when you are done "
   ]
  },
  {
   "cell_type": "code",
   "execution_count": 84,
   "metadata": {
    "collapsed": false
   },
   "outputs": [],
   "source": [
    "filename='./data/gapminder_gdp_oceania.csv'\n",
    "data = pandas.read_csv(filename,index_col='country')"
   ]
  },
  {
   "cell_type": "markdown",
   "metadata": {},
   "source": [
    "Now lets plot the data for Australia"
   ]
  },
  {
   "cell_type": "code",
   "execution_count": 6,
   "metadata": {
    "collapsed": false
   },
   "outputs": [],
   "source": [
    "y = data.ix['Australia']\n",
    "x = data.columns\n"
   ]
  },
  {
   "cell_type": "code",
   "execution_count": null,
   "metadata": {
    "collapsed": false,
    "scrolled": true
   },
   "outputs": [],
   "source": [
    "plt.plot(x,y)"
   ]
  },
  {
   "cell_type": "code",
   "execution_count": 8,
   "metadata": {
    "collapsed": false
   },
   "outputs": [
    {
     "data": {
      "text/plain": [
       "[<matplotlib.lines.Line2D at 0x7f860f714a90>]"
      ]
     },
     "execution_count": 8,
     "metadata": {},
     "output_type": "execute_result"
    },
    {
     "data": {
      "image/png": "[encoded data removed]",
      "text/plain": [
       "<matplotlib.figure.Figure at 0x7f860f969780>"
      ]
     },
     "metadata": {},
     "output_type": "display_data"
    }
   ],
   "source": [
    "x = range(len(y)) #creates a list from 0 to one minus the number of\n",
    "#values in our y data\n",
    "plt.plot(x,y)"
   ]
  },
  {
   "cell_type": "code",
   "execution_count": 9,
   "metadata": {
    "collapsed": false
   },
   "outputs": [
    {
     "data": {
      "text/plain": [
       "([<matplotlib.axis.XTick at 0x7f860f6cc6d8>,\n",
       "  <matplotlib.axis.XTick at 0x7f860f6ec1d0>,\n",
       "  <matplotlib.axis.XTick at 0x7f860f6c1390>,\n",
       "  <matplotlib.axis.XTick at 0x7f860f6add68>,\n",
       "  <matplotlib.axis.XTick at 0x7f860f6b4780>,\n",
       "  <matplotlib.axis.XTick at 0x7f860f6b9198>,\n",
       "  <matplotlib.axis.XTick at 0x7f860f6b9b70>,\n",
       "  <matplotlib.axis.XTick at 0x7f860f63f588>,\n",
       "  <matplotlib.axis.XTick at 0x7f860f63ff60>,\n",
       "  <matplotlib.axis.XTick at 0x7f860f645978>,\n",
       "  <matplotlib.axis.XTick at 0x7f860f64f390>,\n",
       "  <matplotlib.axis.XTick at 0x7f860f64fd68>],\n",
       " <a list of 12 Text xticklabel objects>)"
      ]
     },
     "execution_count": 9,
     "metadata": {},
     "output_type": "execute_result"
    },
    {
     "data": {
      "image/png": "[encoded data removed]",
      "text/plain": [
       "<matplotlib.figure.Figure at 0x7f860f7301d0>"
      ]
     },
     "metadata": {},
     "output_type": "display_data"
    }
   ],
   "source": [
    "x_tickmarks = data.columns\n",
    "plt.plot(x,y)\n",
    "plt.xticks(x,x_tickmarks,size='small',rotation=90)"
   ]
  },
  {
   "cell_type": "markdown",
   "metadata": {},
   "source": [
    "The pandas DataFrames however, have some nice features to let us plot the x and y values directly"
   ]
  },
  {
   "cell_type": "code",
   "execution_count": 10,
   "metadata": {
    "collapsed": false
   },
   "outputs": [
    {
     "data": {
      "text/plain": [
       "(array([  0.,   2.,   4.,   6.,   8.,  10.,  12.]),\n",
       " <a list of 7 Text xticklabel objects>)"
      ]
     },
     "execution_count": 10,
     "metadata": {},
     "output_type": "execute_result"
    },
    {
     "data": {
      "image/png": "[encoded data removed]",
      "text/plain": [
       "<matplotlib.figure.Figure at 0x7f860f6b4240>"
      ]
     },
     "metadata": {},
     "output_type": "display_data"
    }
   ],
   "source": [
    "#slice the data file to get just the data for australia, \n",
    "# and then plake a plot. By default DataFrame.plot() treats the rows as\n",
    "# the x axis. Or the values in the first column are the x values\n",
    "# values in the 2nd column are the y values\n",
    "data.ix['Australia'].plot() \n",
    "plt.xticks(rotation=90)"
   ]
  },
  {
   "cell_type": "markdown",
   "metadata": {},
   "source": [
    "Lets look at our dataframe again to just see that it plotted as we expected"
   ]
  },
  {
   "cell_type": "code",
   "execution_count": 11,
   "metadata": {
    "collapsed": false
   },
   "outputs": [
    {
     "data": {
      "text/plain": [
       "gdpPercap_1952    10039.59564\n",
       "gdpPercap_1957    10949.64959\n",
       "gdpPercap_1962    12217.22686\n",
       "gdpPercap_1967    14526.12465\n",
       "gdpPercap_1972    16788.62948\n",
       "gdpPercap_1977    18334.19751\n",
       "gdpPercap_1982    19477.00928\n",
       "gdpPercap_1987    21888.88903\n",
       "gdpPercap_1992    23424.76683\n",
       "gdpPercap_1997    26997.93657\n",
       "gdpPercap_2002    30687.75473\n",
       "gdpPercap_2007    34435.36744\n",
       "Name: Australia, dtype: float64"
      ]
     },
     "execution_count": 11,
     "metadata": {},
     "output_type": "execute_result"
    }
   ],
   "source": [
    "data.ix['Australia']"
   ]
  },
  {
   "cell_type": "markdown",
   "metadata": {},
   "source": [
    "Why did we use\n",
    "\n",
    "    plt.xticks(rotation=90)\n",
    "    \n",
    "Try plotting without"
   ]
  },
  {
   "cell_type": "code",
   "execution_count": 12,
   "metadata": {
    "collapsed": false
   },
   "outputs": [
    {
     "data": {
      "text/plain": [
       "<matplotlib.axes._subplots.AxesSubplot at 0x7f860fb26400>"
      ]
     },
     "execution_count": 12,
     "metadata": {},
     "output_type": "execute_result"
    },
    {
     "data": {
      "image/png": "[encoded data removed]",
      "text/plain": [
       "<matplotlib.figure.Figure at 0x7f860f5c8cc0>"
      ]
     },
     "metadata": {},
     "output_type": "display_data"
    }
   ],
   "source": [
    "data.ix['Australia'].plot()"
   ]
  },
  {
   "cell_type": "markdown",
   "metadata": {},
   "source": [
    "If we transpose the data (flip what is on the x axis, we can plot another series on our figure). In other words we can plot both the Australia and New Zealand Data"
   ]
  },
  {
   "cell_type": "code",
   "execution_count": 13,
   "metadata": {
    "collapsed": false
   },
   "outputs": [
    {
     "data": {
      "text/html": [
       "<div>\n",
       "<table border=\"1\" class=\"dataframe\">\n",
       "  <thead>\n",
       "    <tr style=\"text-align: right;\">\n",
       "      <th></th>\n",
       "      <th>gdpPercap_1952</th>\n",
       "      <th>gdpPercap_1957</th>\n",
       "      <th>gdpPercap_1962</th>\n",
       "      <th>gdpPercap_1967</th>\n",
       "      <th>gdpPercap_1972</th>\n",
       "      <th>gdpPercap_1977</th>\n",
       "      <th>gdpPercap_1982</th>\n",
       "      <th>gdpPercap_1987</th>\n",
       "      <th>gdpPercap_1992</th>\n",
       "      <th>gdpPercap_1997</th>\n",
       "      <th>gdpPercap_2002</th>\n",
       "      <th>gdpPercap_2007</th>\n",
       "    </tr>\n",
       "    <tr>\n",
       "      <th>country</th>\n",
       "      <th></th>\n",
       "      <th></th>\n",
       "      <th></th>\n",
       "      <th></th>\n",
       "      <th></th>\n",
       "      <th></th>\n",
       "      <th></th>\n",
       "      <th></th>\n",
       "      <th></th>\n",
       "      <th></th>\n",
       "      <th></th>\n",
       "      <th></th>\n",
       "    </tr>\n",
       "  </thead>\n",
       "  <tbody>\n",
       "    <tr>\n",
       "      <th>Australia</th>\n",
       "      <td>10039.59564</td>\n",
       "      <td>10949.64959</td>\n",
       "      <td>12217.22686</td>\n",
       "      <td>14526.12465</td>\n",
       "      <td>16788.62948</td>\n",
       "      <td>18334.19751</td>\n",
       "      <td>19477.00928</td>\n",
       "      <td>21888.88903</td>\n",
       "      <td>23424.76683</td>\n",
       "      <td>26997.93657</td>\n",
       "      <td>30687.75473</td>\n",
       "      <td>34435.36744</td>\n",
       "    </tr>\n",
       "    <tr>\n",
       "      <th>New Zealand</th>\n",
       "      <td>10556.57566</td>\n",
       "      <td>12247.39532</td>\n",
       "      <td>13175.67800</td>\n",
       "      <td>14463.91893</td>\n",
       "      <td>16046.03728</td>\n",
       "      <td>16233.71770</td>\n",
       "      <td>17632.41040</td>\n",
       "      <td>19007.19129</td>\n",
       "      <td>18363.32494</td>\n",
       "      <td>21050.41377</td>\n",
       "      <td>23189.80135</td>\n",
       "      <td>25185.00911</td>\n",
       "    </tr>\n",
       "  </tbody>\n",
       "</table>\n",
       "</div>"
      ],
      "text/plain": [
       "             gdpPercap_1952  gdpPercap_1957  gdpPercap_1962  gdpPercap_1967  \\\n",
       "country                                                                       \n",
       "Australia       10039.59564     10949.64959     12217.22686     14526.12465   \n",
       "New Zealand     10556.57566     12247.39532     13175.67800     14463.91893   \n",
       "\n",
       "             gdpPercap_1972  gdpPercap_1977  gdpPercap_1982  gdpPercap_1987  \\\n",
       "country                                                                       \n",
       "Australia       16788.62948     18334.19751     19477.00928     21888.88903   \n",
       "New Zealand     16046.03728     16233.71770     17632.41040     19007.19129   \n",
       "\n",
       "             gdpPercap_1992  gdpPercap_1997  gdpPercap_2002  gdpPercap_2007  \n",
       "country                                                                      \n",
       "Australia       23424.76683     26997.93657     30687.75473     34435.36744  \n",
       "New Zealand     18363.32494     21050.41377     23189.80135     25185.00911  "
      ]
     },
     "execution_count": 13,
     "metadata": {},
     "output_type": "execute_result"
    }
   ],
   "source": [
    "data"
   ]
  },
  {
   "cell_type": "code",
   "execution_count": 14,
   "metadata": {
    "collapsed": false
   },
   "outputs": [
    {
     "data": {
      "text/html": [
       "<div>\n",
       "<table border=\"1\" class=\"dataframe\">\n",
       "  <thead>\n",
       "    <tr style=\"text-align: right;\">\n",
       "      <th>country</th>\n",
       "      <th>Australia</th>\n",
       "      <th>New Zealand</th>\n",
       "    </tr>\n",
       "  </thead>\n",
       "  <tbody>\n",
       "    <tr>\n",
       "      <th>gdpPercap_1952</th>\n",
       "      <td>10039.59564</td>\n",
       "      <td>10556.57566</td>\n",
       "    </tr>\n",
       "    <tr>\n",
       "      <th>gdpPercap_1957</th>\n",
       "      <td>10949.64959</td>\n",
       "      <td>12247.39532</td>\n",
       "    </tr>\n",
       "    <tr>\n",
       "      <th>gdpPercap_1962</th>\n",
       "      <td>12217.22686</td>\n",
       "      <td>13175.67800</td>\n",
       "    </tr>\n",
       "    <tr>\n",
       "      <th>gdpPercap_1967</th>\n",
       "      <td>14526.12465</td>\n",
       "      <td>14463.91893</td>\n",
       "    </tr>\n",
       "    <tr>\n",
       "      <th>gdpPercap_1972</th>\n",
       "      <td>16788.62948</td>\n",
       "      <td>16046.03728</td>\n",
       "    </tr>\n",
       "    <tr>\n",
       "      <th>gdpPercap_1977</th>\n",
       "      <td>18334.19751</td>\n",
       "      <td>16233.71770</td>\n",
       "    </tr>\n",
       "    <tr>\n",
       "      <th>gdpPercap_1982</th>\n",
       "      <td>19477.00928</td>\n",
       "      <td>17632.41040</td>\n",
       "    </tr>\n",
       "    <tr>\n",
       "      <th>gdpPercap_1987</th>\n",
       "      <td>21888.88903</td>\n",
       "      <td>19007.19129</td>\n",
       "    </tr>\n",
       "    <tr>\n",
       "      <th>gdpPercap_1992</th>\n",
       "      <td>23424.76683</td>\n",
       "      <td>18363.32494</td>\n",
       "    </tr>\n",
       "    <tr>\n",
       "      <th>gdpPercap_1997</th>\n",
       "      <td>26997.93657</td>\n",
       "      <td>21050.41377</td>\n",
       "    </tr>\n",
       "    <tr>\n",
       "      <th>gdpPercap_2002</th>\n",
       "      <td>30687.75473</td>\n",
       "      <td>23189.80135</td>\n",
       "    </tr>\n",
       "    <tr>\n",
       "      <th>gdpPercap_2007</th>\n",
       "      <td>34435.36744</td>\n",
       "      <td>25185.00911</td>\n",
       "    </tr>\n",
       "  </tbody>\n",
       "</table>\n",
       "</div>"
      ],
      "text/plain": [
       "country           Australia  New Zealand\n",
       "gdpPercap_1952  10039.59564  10556.57566\n",
       "gdpPercap_1957  10949.64959  12247.39532\n",
       "gdpPercap_1962  12217.22686  13175.67800\n",
       "gdpPercap_1967  14526.12465  14463.91893\n",
       "gdpPercap_1972  16788.62948  16046.03728\n",
       "gdpPercap_1977  18334.19751  16233.71770\n",
       "gdpPercap_1982  19477.00928  17632.41040\n",
       "gdpPercap_1987  21888.88903  19007.19129\n",
       "gdpPercap_1992  23424.76683  18363.32494\n",
       "gdpPercap_1997  26997.93657  21050.41377\n",
       "gdpPercap_2002  30687.75473  23189.80135\n",
       "gdpPercap_2007  34435.36744  25185.00911"
      ]
     },
     "execution_count": 14,
     "metadata": {},
     "output_type": "execute_result"
    }
   ],
   "source": [
    "data.T \n",
    "\n",
    "#ahah transposing it now gives the first column as our x-values, \n",
    "# but there are two columns after it, so to sets of y-values!"
   ]
  },
  {
   "cell_type": "code",
   "execution_count": 15,
   "metadata": {
    "collapsed": false
   },
   "outputs": [
    {
     "data": {
      "text/plain": [
       "(array([  0.,   2.,   4.,   6.,   8.,  10.,  12.]),\n",
       " <a list of 7 Text xticklabel objects>)"
      ]
     },
     "execution_count": 15,
     "metadata": {},
     "output_type": "execute_result"
    },
    {
     "data": {
      "image/png": "[encoded data removed]",
      "text/plain": [
       "<matplotlib.figure.Figure at 0x7f860f6b4160>"
      ]
     },
     "metadata": {},
     "output_type": "display_data"
    }
   ],
   "source": [
    "data.T.plot()\n",
    "plt.ylabel('GDP per capita')\n",
    "plt.xticks(rotation=90)"
   ]
  },
  {
   "cell_type": "markdown",
   "metadata": {},
   "source": [
    "#### 1.3 Lets Get Fancy!\n",
    "\n",
    "let make a bar plot we will first load a new style of plot called \"ggplot\", this is a style to emulate a popular plotting package in R.\n",
    "\n",
    "Not sure what this is, or looking for a specific style of plot? Go to [www.matplotlib.org](www.matplotlib.org) and search \"ggplot\" also look at the gallery"
   ]
  },
  {
   "cell_type": "code",
   "execution_count": 16,
   "metadata": {
    "collapsed": false
   },
   "outputs": [
    {
     "data": {
      "text/plain": [
       "<matplotlib.text.Text at 0x7f860f5737b8>"
      ]
     },
     "execution_count": 16,
     "metadata": {},
     "output_type": "execute_result"
    },
    {
     "data": {
      "image/png": "[encoded data removed]",
      "text/plain": [
       "<matplotlib.figure.Figure at 0x7f860f52cb38>"
      ]
     },
     "metadata": {},
     "output_type": "display_data"
    }
   ],
   "source": [
    "#import a different style and plot our data\n",
    "plt.style.use('ggplot')\n",
    "data.T.plot(kind='bar')\n",
    "plt.xticks(rotation=90)\n",
    "plt.ylabel('GDP per capita')"
   ]
  },
  {
   "cell_type": "markdown",
   "metadata": {},
   "source": [
    "Sweet! But what if we want to have nice labels, aka just the years extracted from the last four characters from to do this we need to learn a bit about loops and lists! \n",
    "\n",
    "------------------------------"
   ]
  },
  {
   "cell_type": "markdown",
   "metadata": {},
   "source": [
    "### 2. List\n",
    "\n",
    "DO THIS BEFORE THE FIRST SECTION!!!"
   ]
  },
  {
   "cell_type": "markdown",
   "metadata": {},
   "source": [
    "You've delt with similar things in our bash tutorial, i.e. there were several files in directory. Now in python we might have several or a hundred \"variables\" perhaps each of these variables corresponds to a data file you have read in. Now you want to do calculations on each of them. \n",
    "\n",
    "- Doing calculations with a hundred variables called pressure_001, pressure_002, etc., would be at least as slow as doing them by hand.\n",
    "- Use a *list* to store many values together.\n",
    "     - a list is a collection of things\n",
    "     - Contained within square brackets [...].\n",
    "     - Values separated by commas ,.\n",
    "- Use len to find out how many values are in a list.\n",
    "-"
   ]
  },
  {
   "cell_type": "code",
   "execution_count": 17,
   "metadata": {
    "collapsed": false
   },
   "outputs": [
    {
     "name": "stdout",
     "output_type": "stream",
     "text": [
      "pressures: [0.273, 0.275, 0.277, 0.275, 0.276]\n"
     ]
    }
   ],
   "source": [
    "pressures = [0.273, 0.275, 0.277, 0.275, 0.276]\n",
    "print('pressures:', pressures)"
   ]
  },
  {
   "cell_type": "code",
   "execution_count": 18,
   "metadata": {
    "collapsed": false
   },
   "outputs": [
    {
     "name": "stdout",
     "output_type": "stream",
     "text": [
      "length: 5\n"
     ]
    }
   ],
   "source": [
    "print('length:', len(pressures))"
   ]
  },
  {
   "cell_type": "markdown",
   "metadata": {},
   "source": [
    "#### 2.1 Indexing a List to Fetch an item\n",
    "\n",
    "this is just like we might do to pull a character from a string"
   ]
  },
  {
   "cell_type": "code",
   "execution_count": 19,
   "metadata": {
    "collapsed": false
   },
   "outputs": [
    {
     "name": "stdout",
     "output_type": "stream",
     "text": [
      "zeroth item of pressures: 0.273\n",
      "fourth item of pressures: 0.276\n"
     ]
    }
   ],
   "source": [
    "print('zeroth item of pressures:', pressures[0])\n",
    "print('fourth item of pressures:', pressures[4])"
   ]
  },
  {
   "cell_type": "markdown",
   "metadata": {},
   "source": [
    "#### 2.2 Replacing values by assigning them\n",
    "\n",
    "Use the index expression to replace the left most or \"0\" pressure"
   ]
  },
  {
   "cell_type": "code",
   "execution_count": 20,
   "metadata": {
    "collapsed": false
   },
   "outputs": [
    {
     "name": "stdout",
     "output_type": "stream",
     "text": [
      "zeroth item of pressures: 0.273\n"
     ]
    }
   ],
   "source": [
    "print('zeroth item of pressures:', pressures[0])\n"
   ]
  },
  {
   "cell_type": "code",
   "execution_count": 21,
   "metadata": {
    "collapsed": false
   },
   "outputs": [
    {
     "name": "stdout",
     "output_type": "stream",
     "text": [
      "fourth item of pressures: 0.276\n"
     ]
    }
   ],
   "source": [
    "print('fourth item of pressures:', pressures[4])"
   ]
  },
  {
   "cell_type": "markdown",
   "metadata": {},
   "source": [
    "If you want to select multiple values use :"
   ]
  },
  {
   "cell_type": "code",
   "execution_count": 22,
   "metadata": {
    "collapsed": false
   },
   "outputs": [
    {
     "name": "stdout",
     "output_type": "stream",
     "text": [
      "1st through 3rd item of pressures: [0.273, 0.275, 0.277]\n"
     ]
    }
   ],
   "source": [
    "print('1st through 3rd item of pressures:', pressures[0:3])"
   ]
  },
  {
   "cell_type": "code",
   "execution_count": 23,
   "metadata": {
    "collapsed": false
   },
   "outputs": [
    {
     "data": {
      "text/plain": [
       "[0.275, 0.277]"
      ]
     },
     "execution_count": 23,
     "metadata": {},
     "output_type": "execute_result"
    }
   ],
   "source": [
    "pressures[1:-2]"
   ]
  },
  {
   "cell_type": "markdown",
   "metadata": {},
   "source": [
    "#### 2.3 Lengthing a list with *append*\n",
    "\n",
    "Use list_name.append to add items to the end of a list"
   ]
  },
  {
   "cell_type": "code",
   "execution_count": 24,
   "metadata": {
    "collapsed": false
   },
   "outputs": [
    {
     "name": "stdout",
     "output_type": "stream",
     "text": [
      "primes is initially: [2, 3, 5]\n"
     ]
    }
   ],
   "source": [
    "primes = [2, 3, 5]\n",
    "print('primes is initially:', primes)\n"
   ]
  },
  {
   "cell_type": "code",
   "execution_count": 25,
   "metadata": {
    "collapsed": false
   },
   "outputs": [
    {
     "name": "stdout",
     "output_type": "stream",
     "text": [
      "primes has become: [2, 3, 5, 7, 9]\n"
     ]
    }
   ],
   "source": [
    "primes.append(7)\n",
    "primes.append(9)\n",
    "print('primes has become:', primes)"
   ]
  },
  {
   "cell_type": "markdown",
   "metadata": {},
   "source": [
    "- append is a method of lists.\n",
    "    - Like a function, but tied to a particular object.\n",
    "- Use object_name.method_name to call methods.\n",
    "    - Deliberately resembles the way we refer to things in a library.\n",
    "- We will meet other methods of lists as we go along.\n",
    "    - Use help(list) for a preview."
   ]
  },
  {
   "cell_type": "code",
   "execution_count": null,
   "metadata": {
    "collapsed": false,
    "scrolled": false
   },
   "outputs": [],
   "source": [
    "help(list)"
   ]
  },
  {
   "cell_type": "markdown",
   "metadata": {},
   "source": [
    "#### 2.4 deleting items in a list\n",
    "del list_name[index] removes an item from a list and shortens the list.\n",
    "\n",
    "Not a function or a method, but a statement in the language."
   ]
  },
  {
   "cell_type": "code",
   "execution_count": 27,
   "metadata": {
    "collapsed": false
   },
   "outputs": [
    {
     "name": "stdout",
     "output_type": "stream",
     "text": [
      "primes before removing last item: [2, 3, 5, 7, 9]\n"
     ]
    }
   ],
   "source": [
    "print('primes before removing last item:', primes)"
   ]
  },
  {
   "cell_type": "code",
   "execution_count": 28,
   "metadata": {
    "collapsed": false
   },
   "outputs": [
    {
     "name": "stdout",
     "output_type": "stream",
     "text": [
      "primes after removing last item: [2, 3, 5, 7]\n"
     ]
    }
   ],
   "source": [
    "del primes[4]\n",
    "print('primes after removing last item:', primes)"
   ]
  },
  {
   "cell_type": "markdown",
   "metadata": {},
   "source": [
    "#### 2.5 an empty list\n",
    "- Use [] on its own to represent a list that doesn’t contain any values.\n",
    "    - “The zero of lists.”\n",
    "- Helpful as a starting point for collecting values (which we will see in a little bit later).\n",
    "\n"
   ]
  },
  {
   "cell_type": "markdown",
   "metadata": {},
   "source": [
    "#### 2.6 List May Contain values of different types\n",
    "\n",
    "A single list may contain numbers, strings, and anything else."
   ]
  },
  {
   "cell_type": "code",
   "execution_count": 29,
   "metadata": {
    "collapsed": false
   },
   "outputs": [
    {
     "name": "stdout",
     "output_type": "stream",
     "text": [
      "[1, 'Create lists.', 2, 'Extract items from lists.', 3, 'Modify lists.']\n"
     ]
    }
   ],
   "source": [
    "goals = [1, 'Create lists.', 2, 'Extract items from lists.', \n",
    "         3, 'Modify lists.']\n",
    "\n",
    "print(goals)"
   ]
  },
  {
   "cell_type": "markdown",
   "metadata": {},
   "source": [
    "#### 3.7 Character Strings Can be indexed like lists!\n",
    "\n",
    "Get single characters from a character string using indexes in square brackets. You have already done this!\n",
    "\n",
    "Character strings are also a collection, a collection of strings! That just happen to have meaning to us humans."
   ]
  },
  {
   "cell_type": "code",
   "execution_count": 30,
   "metadata": {
    "collapsed": false
   },
   "outputs": [
    {
     "name": "stdout",
     "output_type": "stream",
     "text": [
      "zeroth character: c\n"
     ]
    }
   ],
   "source": [
    "element = 'carbon'\n",
    "print('zeroth character:', element[0])"
   ]
  },
  {
   "cell_type": "code",
   "execution_count": 31,
   "metadata": {
    "collapsed": false
   },
   "outputs": [
    {
     "name": "stdout",
     "output_type": "stream",
     "text": [
      "third character: b\n"
     ]
    }
   ],
   "source": [
    "print('third character:', element[3])"
   ]
  },
  {
   "cell_type": "markdown",
   "metadata": {},
   "source": [
    "what if we index a value beyond the end of the collection?"
   ]
  },
  {
   "cell_type": "code",
   "execution_count": 32,
   "metadata": {
    "collapsed": false
   },
   "outputs": [
    {
     "ename": "IndexError",
     "evalue": "string index out of range",
     "output_type": "error",
     "traceback": [
      "\u001b[0;31m---------------------------------------------------------------------------\u001b[0m",
      "\u001b[0;31mIndexError\u001b[0m                                Traceback (most recent call last)",
      "\u001b[0;32m<ipython-input-32-320bc28f00ab>\u001b[0m in \u001b[0;36m<module>\u001b[0;34m()\u001b[0m\n\u001b[0;32m----> 1\u001b[0;31m \u001b[0mprint\u001b[0m\u001b[0;34m(\u001b[0m\u001b[0;34m'99th element of element is:'\u001b[0m\u001b[0;34m,\u001b[0m \u001b[0melement\u001b[0m\u001b[0;34m[\u001b[0m\u001b[0;36m99\u001b[0m\u001b[0;34m]\u001b[0m\u001b[0;34m)\u001b[0m\u001b[0;34m\u001b[0m\u001b[0m\n\u001b[0m",
      "\u001b[0;31mIndexError\u001b[0m: string index out of range"
     ]
    }
   ],
   "source": [
    "print('99th element of element is:', element[99])"
   ]
  },
  {
   "cell_type": "markdown",
   "metadata": {},
   "source": [
    "What if we want to captilize the C in carbon?"
   ]
  },
  {
   "cell_type": "code",
   "execution_count": 33,
   "metadata": {
    "collapsed": false
   },
   "outputs": [
    {
     "ename": "TypeError",
     "evalue": "'str' object does not support item assignment",
     "output_type": "error",
     "traceback": [
      "\u001b[0;31m---------------------------------------------------------------------------\u001b[0m",
      "\u001b[0;31mTypeError\u001b[0m                                 Traceback (most recent call last)",
      "\u001b[0;32m<ipython-input-33-a1d7f0db9116>\u001b[0m in \u001b[0;36m<module>\u001b[0;34m()\u001b[0m\n\u001b[0;32m----> 1\u001b[0;31m \u001b[0melement\u001b[0m\u001b[0;34m[\u001b[0m\u001b[0;36m0\u001b[0m\u001b[0;34m]\u001b[0m \u001b[0;34m=\u001b[0m \u001b[0;34m'C'\u001b[0m\u001b[0;34m\u001b[0m\u001b[0m\n\u001b[0m",
      "\u001b[0;31mTypeError\u001b[0m: 'str' object does not support item assignment"
     ]
    }
   ],
   "source": [
    "element[0] = 'C'"
   ]
  },
  {
   "cell_type": "markdown",
   "metadata": {},
   "source": [
    "- Cannot change the characters in a string after it has been created.\n",
    "    - *Immutable:* cannot be changed after creation.\n",
    "    - In contrast, lists are mutable: they can be modified in place.\n",
    "- Python considers the string to be a single value with parts, not a collection of values."
   ]
  },
  {
   "cell_type": "markdown",
   "metadata": {},
   "source": [
    "#### Practice"
   ]
  },
  {
   "cell_type": "markdown",
   "metadata": {},
   "source": [
    "Fill in the blanks so that the program below produces the output shown.\n",
    "\n",
    "    values = ____\n",
    "    values.____(1)\n",
    "    values.____(3)\n",
    "    values.____(5)\n",
    "    print('first time:', values)\n",
    "    values = values[____]\n",
    "    print('second time:', values)"
   ]
  },
  {
   "cell_type": "code",
   "execution_count": 34,
   "metadata": {
    "collapsed": false
   },
   "outputs": [
    {
     "name": "stdout",
     "output_type": "stream",
     "text": [
      "first time: [1, 3, 5]\n",
      "second time: [3, 5]\n"
     ]
    }
   ],
   "source": [
    "values = []\n",
    "values.append(1)\n",
    "values.append(3)\n",
    "values.append(5)\n",
    "print('first time:', values)\n",
    "values = values[1:]\n",
    "print('second time:', values)"
   ]
  },
  {
   "cell_type": "code",
   "execution_count": null,
   "metadata": {
    "collapsed": true
   },
   "outputs": [],
   "source": []
  },
  {
   "cell_type": "markdown",
   "metadata": {},
   "source": [
    "------------------------"
   ]
  },
  {
   "cell_type": "markdown",
   "metadata": {},
   "source": [
    "### 3. Loops"
   ]
  },
  {
   "cell_type": "markdown",
   "metadata": {},
   "source": [
    "A for loop executes commands once for each value in a collection.\n",
    "Doing calculations on the values in a list one by one is as painful as working with pressure_001, pressure_002, etc.\n",
    "A for loop tells Python to execute some statements once for each value in a list, a character string, or some other collection.\n",
    "“for each thing in this group, do these operations”"
   ]
  },
  {
   "cell_type": "code",
   "execution_count": 35,
   "metadata": {
    "collapsed": false
   },
   "outputs": [
    {
     "name": "stdout",
     "output_type": "stream",
     "text": [
      "2\n",
      "3\n",
      "5\n"
     ]
    }
   ],
   "source": [
    "for number in [2, 3, 5]:\n",
    "    print(number)"
   ]
  },
  {
   "cell_type": "markdown",
   "metadata": {},
   "source": [
    "This for loop is equivalent to:"
   ]
  },
  {
   "cell_type": "code",
   "execution_count": 36,
   "metadata": {
    "collapsed": false
   },
   "outputs": [
    {
     "name": "stdout",
     "output_type": "stream",
     "text": [
      "2\n",
      "3\n",
      "5\n"
     ]
    }
   ],
   "source": [
    "print(2)\n",
    "print(3)\n",
    "print(5)"
   ]
  },
  {
   "cell_type": "markdown",
   "metadata": {},
   "source": [
    "The first line of the for loop must end with a colon, and the body must be indented.\n",
    "The colon at the end of the first line signals the start of a block of statements.\n",
    "Python uses indentation rather than {} or begin/end to show nesting.\n",
    "Any consistent indentation is legal, but almost everyone uses four spaces."
   ]
  },
  {
   "cell_type": "code",
   "execution_count": 37,
   "metadata": {
    "collapsed": false
   },
   "outputs": [
    {
     "ename": "IndentationError",
     "evalue": "expected an indented block (<ipython-input-37-d93aa9ee6533>, line 2)",
     "output_type": "error",
     "traceback": [
      "\u001b[0;36m  File \u001b[0;32m\"<ipython-input-37-d93aa9ee6533>\"\u001b[0;36m, line \u001b[0;32m2\u001b[0m\n\u001b[0;31m    print(number)\u001b[0m\n\u001b[0m        ^\u001b[0m\n\u001b[0;31mIndentationError\u001b[0m\u001b[0;31m:\u001b[0m expected an indented block\n"
     ]
    }
   ],
   "source": [
    "for number in [2, 3, 5]:\n",
    "print(number)"
   ]
  },
  {
   "cell_type": "markdown",
   "metadata": {},
   "source": [
    "Indentation is always meaningful in Python.\n"
   ]
  },
  {
   "cell_type": "code",
   "execution_count": 38,
   "metadata": {
    "collapsed": false
   },
   "outputs": [
    {
     "ename": "IndentationError",
     "evalue": "unexpected indent (<ipython-input-38-f65f2962bf9c>, line 2)",
     "output_type": "error",
     "traceback": [
      "\u001b[0;36m  File \u001b[0;32m\"<ipython-input-38-f65f2962bf9c>\"\u001b[0;36m, line \u001b[0;32m2\u001b[0m\n\u001b[0;31m    lastName=\"Smith\"\u001b[0m\n\u001b[0m    ^\u001b[0m\n\u001b[0;31mIndentationError\u001b[0m\u001b[0;31m:\u001b[0m unexpected indent\n"
     ]
    }
   ],
   "source": [
    "firstName=\"Jon\"\n",
    "  lastName=\"Smith\""
   ]
  },
  {
   "cell_type": "markdown",
   "metadata": {},
   "source": [
    "This error can be fixed by removing the extra spaces at the beginning of the second line."
   ]
  },
  {
   "cell_type": "markdown",
   "metadata": {},
   "source": [
    "A for loop is made up of a collection, a loop variable, and a body."
   ]
  },
  {
   "cell_type": "code",
   "execution_count": 39,
   "metadata": {
    "collapsed": false
   },
   "outputs": [
    {
     "name": "stdout",
     "output_type": "stream",
     "text": [
      "2\n",
      "3\n",
      "5\n"
     ]
    }
   ],
   "source": [
    "for number in [2, 3, 5]:\n",
    "    print(number)"
   ]
  },
  {
   "cell_type": "markdown",
   "metadata": {},
   "source": [
    "The collection, [2, 3, 5], is what the loop is being run on.\n",
    "The body, print(number), specifies what to do for each value in the collection.\n",
    "The loop variable, number, is what changes for each iteration of the loop.\n",
    "The “current thing”."
   ]
  },
  {
   "cell_type": "markdown",
   "metadata": {},
   "source": [
    "Loop variables can be called anything.\n",
    "As with all variables, loop variables are:\n",
    "Created on demand.\n",
    "Meaningless: their names can be anything at all.\n"
   ]
  },
  {
   "cell_type": "code",
   "execution_count": 40,
   "metadata": {
    "collapsed": false
   },
   "outputs": [
    {
     "name": "stdout",
     "output_type": "stream",
     "text": [
      "2\n",
      "3\n",
      "5\n"
     ]
    }
   ],
   "source": [
    "for kitten in [2, 3, 5]:\n",
    "    print(kitten)"
   ]
  },
  {
   "cell_type": "markdown",
   "metadata": {},
   "source": [
    "The body of a loop can contain many statements.\n",
    "But no loop should be more than a few lines long.\n",
    "Hard for human beings to keep larger chunks of code in mind."
   ]
  },
  {
   "cell_type": "code",
   "execution_count": 41,
   "metadata": {
    "collapsed": false
   },
   "outputs": [
    {
     "name": "stdout",
     "output_type": "stream",
     "text": [
      "2 4 8\n",
      "3 9 27\n",
      "5 25 125\n"
     ]
    }
   ],
   "source": [
    "primes = [2, 3, 5]\n",
    "for p in primes:\n",
    "    squared = p ** 2\n",
    "    cubed = p ** 3\n",
    "    print(p, squared, cubed)"
   ]
  },
  {
   "cell_type": "markdown",
   "metadata": {},
   "source": [
    "Use range to iterate over a sequence of numbers.\n",
    "The built-in function range produces a sequence of numbers.\n",
    "Not a list: the numbers are produced on demand to make looping over large ranges more efficient.\n",
    "range(N) is the numbers 0..N-1\n",
    "Exactly the legal indices of a list or character string of length N"
   ]
  },
  {
   "cell_type": "code",
   "execution_count": 42,
   "metadata": {
    "collapsed": false
   },
   "outputs": [
    {
     "name": "stdout",
     "output_type": "stream",
     "text": [
      "a range is not a list: range(0, 3)\n",
      "0\n",
      "1\n",
      "2\n"
     ]
    }
   ],
   "source": [
    "print('a range is not a list: range(0, 3)')\n",
    "for number in range(0,3):\n",
    "    print(number)"
   ]
  },
  {
   "cell_type": "markdown",
   "metadata": {},
   "source": [
    "The Accumulator pattern turns many values into one.\n",
    "A common pattern in programs is to:\n",
    "Initialize an accumulator variable to zero, the empty string, or the empty list.\n",
    "Update the variable with values from a collection."
   ]
  },
  {
   "cell_type": "code",
   "execution_count": 43,
   "metadata": {
    "collapsed": false
   },
   "outputs": [
    {
     "name": "stdout",
     "output_type": "stream",
     "text": [
      "55\n"
     ]
    }
   ],
   "source": [
    "# Sum the first 10 integers.\n",
    "total = 0\n",
    "for number in range(10):\n",
    "   total = total + (number + 1)\n",
    "print(total)"
   ]
  },
  {
   "cell_type": "markdown",
   "metadata": {},
   "source": [
    "Read total = total + (number + 1) as:\n",
    "Add 1 to the current value of the loop variable number.\n",
    "Add that to the current value of the accumulator variable total.\n",
    "Assign that to total, replacing the current value.\n",
    "We have to add number + 1 because range produces 0..9, not 1..10.\n"
   ]
  },
  {
   "cell_type": "markdown",
   "metadata": {},
   "source": [
    "#### Practice"
   ]
  },
  {
   "cell_type": "markdown",
   "metadata": {},
   "source": [
    "Fill in the blanks in each of the programs below to produce the indicated result.\n",
    "\n",
    "    # Total length of the strings in the list: [\"red\", \"green\", \"blue\"] => 12\n",
    "    total = 0\n",
    "    for word in [\"red\", \"green\", \"blue\"]:\n",
    "        ____ = ____ + len(word)\n",
    "    print(total)\n",
    "    \n",
    "----------"
   ]
  },
  {
   "cell_type": "markdown",
   "metadata": {},
   "source": [
    "    # List of word lengths: [\"red\", \"green\", \"blue\"] => [3, 5, 4]\n",
    "    lengths = ____\n",
    "    for word in [\"red\", \"green\", \"blue\"]:\n",
    "        lengths = lengths.____(____)\n",
    "    print(lengths)\n",
    "\n",
    "---------"
   ]
  },
  {
   "cell_type": "markdown",
   "metadata": {},
   "source": [
    "    # Concatenate all words: [\"red\", \"green\", \"blue\"] => \"redgreenblue\"\n",
    "    words = [\"red\", \"green\", \"blue\"]\n",
    "    result = ____\n",
    "    for ____ in ____:\n",
    "        ____\n",
    "    print(result)"
   ]
  },
  {
   "cell_type": "markdown",
   "metadata": {},
   "source": [
    "----------------\n",
    "    # Create acronym: [\"red\", \"green\", \"blue\"] => \"RGB\"\n",
    "    # write the whole thing"
   ]
  },
  {
   "cell_type": "markdown",
   "metadata": {},
   "source": [
    "#### 3. Looping over data sets\n",
    "\n",
    "DO THIS AFTER THE MORE PLOTTING"
   ]
  },
  {
   "cell_type": "markdown",
   "metadata": {},
   "source": [
    "Use a for loop to process files given a list of their names.\n",
    "A filename is just a character string.\n",
    "And lists can contain character strings."
   ]
  },
  {
   "cell_type": "code",
   "execution_count": 44,
   "metadata": {
    "collapsed": false
   },
   "outputs": [
    {
     "name": "stdout",
     "output_type": "stream",
     "text": [
      "data/gapminder_gdp_africa.csv gdpPercap_1952    298.846212\n",
      "gdpPercap_1957    335.997115\n",
      "gdpPercap_1962    355.203227\n",
      "gdpPercap_1967    412.977514\n",
      "gdpPercap_1972    464.099504\n",
      "gdpPercap_1977    502.319733\n",
      "gdpPercap_1982    462.211415\n",
      "gdpPercap_1987    389.876185\n",
      "gdpPercap_1992    410.896824\n",
      "gdpPercap_1997    312.188423\n",
      "gdpPercap_2002    241.165877\n",
      "gdpPercap_2007    277.551859\n",
      "dtype: float64\n",
      "data/gapminder_gdp_asia.csv gdpPercap_1952    331.0\n",
      "gdpPercap_1957    350.0\n",
      "gdpPercap_1962    388.0\n",
      "gdpPercap_1967    349.0\n",
      "gdpPercap_1972    357.0\n",
      "gdpPercap_1977    371.0\n",
      "gdpPercap_1982    424.0\n",
      "gdpPercap_1987    385.0\n",
      "gdpPercap_1992    347.0\n",
      "gdpPercap_1997    415.0\n",
      "gdpPercap_2002    611.0\n",
      "gdpPercap_2007    944.0\n",
      "dtype: float64\n"
     ]
    }
   ],
   "source": [
    "for filename in ['data/gapminder_gdp_africa.csv', 'data/gapminder_gdp_asia.csv']:\n",
    "    data = pandas.read_csv(filename, index_col='country')\n",
    "    print(filename, data.min())"
   ]
  },
  {
   "cell_type": "markdown",
   "metadata": {},
   "source": [
    "Use glob.glob to find sets of files whose names match a pattern.\n",
    "In Unix, the term “globbing” means “matching a set of files with a pattern”.\n",
    "The most common patterns are:\n",
    "* meaning “match zero or more characters”\n",
    "? meaning “match exactly one character”\n",
    "Provided in Python by the glob library, which provides a function also called glob.\n",
    "E.g., glob.glob('*.txt') matches all files in the current directory whose names end with .txt.\n",
    "Result is a (possibly empty) list of character strings.\n"
   ]
  },
  {
   "cell_type": "code",
   "execution_count": 45,
   "metadata": {
    "collapsed": false
   },
   "outputs": [
    {
     "name": "stdout",
     "output_type": "stream",
     "text": [
      "all csv files in data directory: ['data/gapminder_gdp_oceania.csv', 'data/gapminder_all.csv', 'data/gapminder_gdp_europe.csv', 'data/gapminder_gdp_africa.csv', 'data/gapminder_gdp_americas.csv', 'data/gapminder_gdp_asia.csv']\n"
     ]
    }
   ],
   "source": [
    "import glob\n",
    "print('all csv files in data directory:', glob.glob('data/*.csv'))"
   ]
  },
  {
   "cell_type": "code",
   "execution_count": 46,
   "metadata": {
    "collapsed": false
   },
   "outputs": [
    {
     "name": "stdout",
     "output_type": "stream",
     "text": [
      "all PDB files: []\n"
     ]
    }
   ],
   "source": [
    "print('all PDB files:', glob.glob('*.pdb'))"
   ]
  },
  {
   "cell_type": "markdown",
   "metadata": {},
   "source": [
    "Use glob and for to process batches of files.\n",
    "Helps a lot if the files are named and stored systematically and consistently so that simple patterns will find the right data."
   ]
  },
  {
   "cell_type": "code",
   "execution_count": 47,
   "metadata": {
    "collapsed": false
   },
   "outputs": [
    {
     "name": "stdout",
     "output_type": "stream",
     "text": [
      "data/gapminder_gdp_oceania.csv 10039.59564\n",
      "data/gapminder_all.csv 298.8462121\n",
      "data/gapminder_gdp_europe.csv 973.5331948\n",
      "data/gapminder_gdp_africa.csv 298.8462121\n",
      "data/gapminder_gdp_americas.csv 1397.717137\n",
      "data/gapminder_gdp_asia.csv 331.0\n"
     ]
    }
   ],
   "source": [
    "for filename in glob.glob('data/*.csv'):\n",
    "    data = pandas.read_csv(filename)\n",
    "    print(filename, data['gdpPercap_1952'].min())"
   ]
  },
  {
   "cell_type": "markdown",
   "metadata": {},
   "source": [
    "This includes all data, as well as per-region data.\n",
    "Use a more specific pattern in the exercises to exclude the whole data set.\n",
    "But note that the minimum of the entire data set is also the minimum of one of the data sets, which is a nice check on correctness."
   ]
  },
  {
   "cell_type": "code",
   "execution_count": null,
   "metadata": {
    "collapsed": true
   },
   "outputs": [],
   "source": []
  },
  {
   "cell_type": "markdown",
   "metadata": {},
   "source": [
    "Write a program that reads in the regional data sets and plots the average GDP per capita for each region over time in a single chart."
   ]
  },
  {
   "cell_type": "code",
   "execution_count": 1,
   "metadata": {
    "collapsed": false
   },
   "outputs": [
    {
     "ename": "NameError",
     "evalue": "name 'glob' is not defined",
     "output_type": "error",
     "traceback": [
      "\u001b[0;31m---------------------------------------------------------------------------\u001b[0m",
      "\u001b[0;31mNameError\u001b[0m                                 Traceback (most recent call last)",
      "\u001b[0;32m<ipython-input-1-032e51febc9b>\u001b[0m in \u001b[0;36m<module>\u001b[0;34m()\u001b[0m\n\u001b[1;32m      1\u001b[0m \u001b[0mdata_all_regions\u001b[0m \u001b[0;34m=\u001b[0m \u001b[0;34m[\u001b[0m\u001b[0;34m]\u001b[0m\u001b[0;34m\u001b[0m\u001b[0m\n\u001b[1;32m      2\u001b[0m \u001b[0mdata_file_names\u001b[0m \u001b[0;34m=\u001b[0m \u001b[0;34m[\u001b[0m\u001b[0;34m]\u001b[0m\u001b[0;34m\u001b[0m\u001b[0m\n\u001b[0;32m----> 3\u001b[0;31m \u001b[0;32mfor\u001b[0m \u001b[0mfilename\u001b[0m \u001b[0;32min\u001b[0m \u001b[0mglob\u001b[0m\u001b[0;34m.\u001b[0m\u001b[0mglob\u001b[0m\u001b[0;34m(\u001b[0m\u001b[0;34m'data/gapminder_gdp*.csv'\u001b[0m\u001b[0;34m)\u001b[0m\u001b[0;34m:\u001b[0m\u001b[0;34m\u001b[0m\u001b[0m\n\u001b[0m\u001b[1;32m      4\u001b[0m     \u001b[0mdata_file_names\u001b[0m\u001b[0;34m.\u001b[0m\u001b[0mappend\u001b[0m\u001b[0;34m(\u001b[0m\u001b[0mfilename\u001b[0m\u001b[0;34m[\u001b[0m\u001b[0;36m5\u001b[0m\u001b[0;34m:\u001b[0m\u001b[0;34m]\u001b[0m\u001b[0;34m)\u001b[0m\u001b[0;34m\u001b[0m\u001b[0m\n\u001b[1;32m      5\u001b[0m     \u001b[0mdata_all_regions\u001b[0m\u001b[0;34m.\u001b[0m\u001b[0mappend\u001b[0m\u001b[0;34m(\u001b[0m\u001b[0mpandas\u001b[0m\u001b[0;34m.\u001b[0m\u001b[0mread_csv\u001b[0m\u001b[0;34m(\u001b[0m\u001b[0mfilename\u001b[0m\u001b[0;34m)\u001b[0m\u001b[0;34m)\u001b[0m\u001b[0;34m\u001b[0m\u001b[0m\n",
      "\u001b[0;31mNameError\u001b[0m: name 'glob' is not defined"
     ]
    }
   ],
   "source": [
    "data_all_regions = []\n",
    "data_file_names = []\n",
    "for filename in glob.glob('data/gapminder_gdp*.csv'):\n",
    "    data_file_names.append(filename[5:])\n",
    "    data_all_regions.append(pandas.read_csv(filename))\n",
    "    print(filename)\n",
    "\n",
    "print(len(data_all_regions))\n",
    "print(data_file_names)\n"
   ]
  },
  {
   "cell_type": "code",
   "execution_count": 49,
   "metadata": {
    "collapsed": false
   },
   "outputs": [
    {
     "data": {
      "text/plain": [
       "(array([  0.,   2.,   4.,   6.,   8.,  10.,  12.]),\n",
       " <a list of 7 Text xticklabel objects>)"
      ]
     },
     "execution_count": 49,
     "metadata": {},
     "output_type": "execute_result"
    },
    {
     "data": {
      "image/png": "[encoded data removed]",
      "text/plain": [
       "<matplotlib.figure.Figure at 0x7f860f3a2588>"
      ]
     },
     "metadata": {},
     "output_type": "display_data"
    }
   ],
   "source": [
    "i = 0\n",
    "for region in data_all_regions:\n",
    "    region.describe().ix['mean'].plot(label=data_file_names[i][14:-4])\n",
    "    i=i+1\n",
    "\n",
    "plt.legend(loc='upper left')\n",
    "plt.xticks(rotation=90)"
   ]
  },
  {
   "cell_type": "markdown",
   "metadata": {},
   "source": [
    "### 4. More plotting\n",
    "\n",
    "We now know about lists and loops can you make a plot of Australia's GDP versus time, with the x-axis labels just being the 4 years extracted from the ends of the column names? "
   ]
  },
  {
   "cell_type": "markdown",
   "metadata": {},
   "source": [
    "#### 4.1 Australia's GDP versus Year"
   ]
  },
  {
   "cell_type": "code",
   "execution_count": 85,
   "metadata": {
    "collapsed": false
   },
   "outputs": [
    {
     "data": {
      "text/plain": [
       "gdpPercap_1952    10039.59564\n",
       "gdpPercap_1957    10949.64959\n",
       "gdpPercap_1962    12217.22686\n",
       "gdpPercap_1967    14526.12465\n",
       "gdpPercap_1972    16788.62948\n",
       "gdpPercap_1977    18334.19751\n",
       "gdpPercap_1982    19477.00928\n",
       "gdpPercap_1987    21888.88903\n",
       "gdpPercap_1992    23424.76683\n",
       "gdpPercap_1997    26997.93657\n",
       "gdpPercap_2002    30687.75473\n",
       "gdpPercap_2007    34435.36744\n",
       "Name: Australia, dtype: float64"
      ]
     },
     "execution_count": 85,
     "metadata": {},
     "output_type": "execute_result"
    },
    {
     "data": {
      "image/png": "[encoded data removed]",
      "text/plain": [
       "<matplotlib.figure.Figure at 0x7f860f294cc0>"
      ]
     },
     "metadata": {},
     "output_type": "display_data"
    }
   ],
   "source": [
    "# this is what we had before\n",
    "data.ix['Australia'].plot() \n",
    "plt.xticks(rotation=90)\n",
    "data.ix['Australia']"
   ]
  },
  {
   "cell_type": "markdown",
   "metadata": {},
   "source": [
    "The steps:\n",
    " 1. make a for loop too\n",
    "     - extract the years from the last four characters of the columns' names.\n",
    "     - store these in a list using the Accumulator pattern\n",
    " 3. Use this list as your x-values to input into plt.plot\n",
    " 2. What do you have to do to your y-data"
   ]
  },
  {
   "cell_type": "code",
   "execution_count": 86,
   "metadata": {
    "collapsed": false
   },
   "outputs": [
    {
     "data": {
      "text/plain": [
       "<matplotlib.text.Text at 0x7f860ed604e0>"
      ]
     },
     "execution_count": 86,
     "metadata": {},
     "output_type": "execute_result"
    },
    {
     "data": {
      "image/png": "[encoded data removed]",
      "text/plain": [
       "<matplotlib.figure.Figure at 0x7f860f25cf98>"
      ]
     },
     "metadata": {},
     "output_type": "display_data"
    }
   ],
   "source": [
    "# Accumulator pattern to collect years (as character strings).\n",
    "years = []\n",
    "for col in data.columns:\n",
    "    year = col[-4:]\n",
    "    years.append(year)\n",
    "\n",
    "# Australia data as list.\n",
    "gdp_australia = data.ix['Australia'].tolist()\n",
    "\n",
    "# Plot: 'b-' sets the line style.\n",
    "plt.plot(years, gdp_australia, 'b-')\n",
    "plt.ylabel('GDP per capita')\n",
    "plt.xlabel('Year')"
   ]
  },
  {
   "cell_type": "markdown",
   "metadata": {},
   "source": [
    "We also show here how to change formats in plots by use a keyward argument after the arguments x and y. This keyword sets the line color to \"b\" which is short for blue and \"-\" which is a solid line. What if you did \"b--\" or \"b.\""
   ]
  },
  {
   "cell_type": "markdown",
   "metadata": {},
   "source": [
    "#### 4.2 Australia & New Zealand GDP versus Year"
   ]
  },
  {
   "cell_type": "markdown",
   "metadata": {},
   "source": [
    "What do we need to do to edit this so we can also plot the New Zealand data on the same figure? Will the x-axis be any different for the countries? What is different?"
   ]
  },
  {
   "cell_type": "code",
   "execution_count": 87,
   "metadata": {
    "collapsed": false
   },
   "outputs": [
    {
     "data": {
      "text/plain": [
       "<matplotlib.text.Text at 0x7f860ec470b8>"
      ]
     },
     "execution_count": 87,
     "metadata": {},
     "output_type": "execute_result"
    },
    {
     "data": {
      "image/png": "[encoded data removed]",
      "text/plain": [
       "<matplotlib.figure.Figure at 0x7f860ed2a550>"
      ]
     },
     "metadata": {},
     "output_type": "display_data"
    }
   ],
   "source": [
    "# Accumulator pattern to collect years (as character strings).\n",
    "years = []\n",
    "for col in data.columns:\n",
    "    year = col[-4:]\n",
    "    years.append(year)\n",
    "\n",
    "# Select two countries' worth of data.\n",
    "gdp_australia = data.ix['Australia']\n",
    "gdp_nz = data.ix['New Zealand']\n",
    "\n",
    "# Plot with differently-colored markers.\n",
    "plt.plot(years, gdp_australia, 'b-', label='Australia')\n",
    "plt.plot(years, gdp_nz, 'g-', label='New Zealand')\n",
    "\n",
    "# Create legend.\n",
    "plt.legend(loc='upper left')\n",
    "plt.xlabel('Year')\n",
    "plt.ylabel('GDP per capita ($)')"
   ]
  },
  {
   "cell_type": "markdown",
   "metadata": {},
   "source": [
    "#### 4.3 A scatter plot?\n",
    "Make a scatter plot correlating the GDP of Australia and New Zealand"
   ]
  },
  {
   "cell_type": "code",
   "execution_count": 88,
   "metadata": {
    "collapsed": false
   },
   "outputs": [
    {
     "data": {
      "text/plain": [
       "<matplotlib.text.Text at 0x7f860ec32978>"
      ]
     },
     "execution_count": 88,
     "metadata": {},
     "output_type": "execute_result"
    },
    {
     "data": {
      "image/png": "[encoded data removed]",
      "text/plain": [
       "<matplotlib.figure.Figure at 0x7f860ecc1e80>"
      ]
     },
     "metadata": {},
     "output_type": "display_data"
    }
   ],
   "source": [
    "plt.scatter(gdp_australia, gdp_nz)\n",
    "plt.xlabel('Australia GDP per capita ($)')\n",
    "plt.ylabel('New Zeland GDP per capita ($)')"
   ]
  },
  {
   "cell_type": "markdown",
   "metadata": {},
   "source": [
    "we could also use DataFrame.plot.scatter"
   ]
  },
  {
   "cell_type": "code",
   "execution_count": 89,
   "metadata": {
    "collapsed": false
   },
   "outputs": [
    {
     "data": {
      "text/plain": [
       "<matplotlib.axes._subplots.AxesSubplot at 0x7f860eb81c18>"
      ]
     },
     "execution_count": 89,
     "metadata": {},
     "output_type": "execute_result"
    },
    {
     "data": {
      "image/png": "[encoded data removed]",
      "text/plain": [
       "<matplotlib.figure.Figure at 0x7f860eb50898>"
      ]
     },
     "metadata": {},
     "output_type": "display_data"
    }
   ],
   "source": [
    "data.T.plot.scatter(x='Australia',y='New Zealand')"
   ]
  },
  {
   "cell_type": "markdown",
   "metadata": {},
   "source": [
    "#### 4.4 Plotting Exercises"
   ]
  },
  {
   "cell_type": "markdown",
   "metadata": {},
   "source": [
    "##### Problem 1"
   ]
  },
  {
   "cell_type": "markdown",
   "metadata": {},
   "source": [
    "Fill in the blanks below to plot the minimum GDP per capita over time for all the countries in Europe. Modify it again to plot the maximum GDP per capita over time for Europe.\n",
    "\n",
    "    data_europe = pandas.read_csv('data/gapminder_gdp_europe.csv')\n",
    "    data_europe.____.plot(label='min')\n",
    "    data_europe.____\n",
    "    plt.legend(loc='best')\n"
   ]
  },
  {
   "cell_type": "code",
   "execution_count": 82,
   "metadata": {
    "collapsed": false,
    "scrolled": true
   },
   "outputs": [
    {
     "data": {
      "text/html": [
       "<div>\n",
       "<table border=\"1\" class=\"dataframe\">\n",
       "  <thead>\n",
       "    <tr style=\"text-align: right;\">\n",
       "      <th></th>\n",
       "      <th>gdpPercap_1952</th>\n",
       "      <th>gdpPercap_1957</th>\n",
       "      <th>gdpPercap_1962</th>\n",
       "      <th>gdpPercap_1967</th>\n",
       "      <th>gdpPercap_1972</th>\n",
       "      <th>gdpPercap_1977</th>\n",
       "      <th>gdpPercap_1982</th>\n",
       "      <th>gdpPercap_1987</th>\n",
       "      <th>gdpPercap_1992</th>\n",
       "      <th>gdpPercap_1997</th>\n",
       "      <th>gdpPercap_2002</th>\n",
       "      <th>gdpPercap_2007</th>\n",
       "    </tr>\n",
       "    <tr>\n",
       "      <th>country</th>\n",
       "      <th></th>\n",
       "      <th></th>\n",
       "      <th></th>\n",
       "      <th></th>\n",
       "      <th></th>\n",
       "      <th></th>\n",
       "      <th></th>\n",
       "      <th></th>\n",
       "      <th></th>\n",
       "      <th></th>\n",
       "      <th></th>\n",
       "      <th></th>\n",
       "    </tr>\n",
       "  </thead>\n",
       "  <tbody>\n",
       "    <tr>\n",
       "      <th>Albania</th>\n",
       "      <td>1601.056136</td>\n",
       "      <td>1942.284244</td>\n",
       "      <td>2312.888958</td>\n",
       "      <td>2760.196931</td>\n",
       "      <td>3313.422188</td>\n",
       "      <td>3533.003910</td>\n",
       "      <td>3630.880722</td>\n",
       "      <td>3738.932735</td>\n",
       "      <td>2497.437901</td>\n",
       "      <td>3193.054604</td>\n",
       "      <td>4604.211737</td>\n",
       "      <td>5937.029526</td>\n",
       "    </tr>\n",
       "    <tr>\n",
       "      <th>Austria</th>\n",
       "      <td>6137.076492</td>\n",
       "      <td>8842.598030</td>\n",
       "      <td>10750.721110</td>\n",
       "      <td>12834.602400</td>\n",
       "      <td>16661.625600</td>\n",
       "      <td>19749.422300</td>\n",
       "      <td>21597.083620</td>\n",
       "      <td>23687.826070</td>\n",
       "      <td>27042.018680</td>\n",
       "      <td>29095.920660</td>\n",
       "      <td>32417.607690</td>\n",
       "      <td>36126.492700</td>\n",
       "    </tr>\n",
       "    <tr>\n",
       "      <th>Belgium</th>\n",
       "      <td>8343.105127</td>\n",
       "      <td>9714.960623</td>\n",
       "      <td>10991.206760</td>\n",
       "      <td>13149.041190</td>\n",
       "      <td>16672.143560</td>\n",
       "      <td>19117.974480</td>\n",
       "      <td>20979.845890</td>\n",
       "      <td>22525.563080</td>\n",
       "      <td>25575.570690</td>\n",
       "      <td>27561.196630</td>\n",
       "      <td>30485.883750</td>\n",
       "      <td>33692.605080</td>\n",
       "    </tr>\n",
       "    <tr>\n",
       "      <th>Bosnia and Herzegovina</th>\n",
       "      <td>973.533195</td>\n",
       "      <td>1353.989176</td>\n",
       "      <td>1709.683679</td>\n",
       "      <td>2172.352423</td>\n",
       "      <td>2860.169750</td>\n",
       "      <td>3528.481305</td>\n",
       "      <td>4126.613157</td>\n",
       "      <td>4314.114757</td>\n",
       "      <td>2546.781445</td>\n",
       "      <td>4766.355904</td>\n",
       "      <td>6018.975239</td>\n",
       "      <td>7446.298803</td>\n",
       "    </tr>\n",
       "    <tr>\n",
       "      <th>Bulgaria</th>\n",
       "      <td>2444.286648</td>\n",
       "      <td>3008.670727</td>\n",
       "      <td>4254.337839</td>\n",
       "      <td>5577.002800</td>\n",
       "      <td>6597.494398</td>\n",
       "      <td>7612.240438</td>\n",
       "      <td>8224.191647</td>\n",
       "      <td>8239.854824</td>\n",
       "      <td>6302.623438</td>\n",
       "      <td>5970.388760</td>\n",
       "      <td>7696.777725</td>\n",
       "      <td>10680.792820</td>\n",
       "    </tr>\n",
       "    <tr>\n",
       "      <th>Croatia</th>\n",
       "      <td>3119.236520</td>\n",
       "      <td>4338.231617</td>\n",
       "      <td>5477.890018</td>\n",
       "      <td>6960.297861</td>\n",
       "      <td>9164.090127</td>\n",
       "      <td>11305.385170</td>\n",
       "      <td>13221.821840</td>\n",
       "      <td>13822.583940</td>\n",
       "      <td>8447.794873</td>\n",
       "      <td>9875.604515</td>\n",
       "      <td>11628.388950</td>\n",
       "      <td>14619.222720</td>\n",
       "    </tr>\n",
       "    <tr>\n",
       "      <th>Czech Republic</th>\n",
       "      <td>6876.140250</td>\n",
       "      <td>8256.343918</td>\n",
       "      <td>10136.867130</td>\n",
       "      <td>11399.444890</td>\n",
       "      <td>13108.453600</td>\n",
       "      <td>14800.160620</td>\n",
       "      <td>15377.228550</td>\n",
       "      <td>16310.443400</td>\n",
       "      <td>14297.021220</td>\n",
       "      <td>16048.514240</td>\n",
       "      <td>17596.210220</td>\n",
       "      <td>22833.308510</td>\n",
       "    </tr>\n",
       "    <tr>\n",
       "      <th>Denmark</th>\n",
       "      <td>9692.385245</td>\n",
       "      <td>11099.659350</td>\n",
       "      <td>13583.313510</td>\n",
       "      <td>15937.211230</td>\n",
       "      <td>18866.207210</td>\n",
       "      <td>20422.901500</td>\n",
       "      <td>21688.040480</td>\n",
       "      <td>25116.175810</td>\n",
       "      <td>26406.739850</td>\n",
       "      <td>29804.345670</td>\n",
       "      <td>32166.500060</td>\n",
       "      <td>35278.418740</td>\n",
       "    </tr>\n",
       "    <tr>\n",
       "      <th>Finland</th>\n",
       "      <td>6424.519071</td>\n",
       "      <td>7545.415386</td>\n",
       "      <td>9371.842561</td>\n",
       "      <td>10921.636260</td>\n",
       "      <td>14358.875900</td>\n",
       "      <td>15605.422830</td>\n",
       "      <td>18533.157610</td>\n",
       "      <td>21141.012230</td>\n",
       "      <td>20647.164990</td>\n",
       "      <td>23723.950200</td>\n",
       "      <td>28204.590570</td>\n",
       "      <td>33207.084400</td>\n",
       "    </tr>\n",
       "    <tr>\n",
       "      <th>France</th>\n",
       "      <td>7029.809327</td>\n",
       "      <td>8662.834898</td>\n",
       "      <td>10560.485530</td>\n",
       "      <td>12999.917660</td>\n",
       "      <td>16107.191710</td>\n",
       "      <td>18292.635140</td>\n",
       "      <td>20293.897460</td>\n",
       "      <td>22066.442140</td>\n",
       "      <td>24703.796150</td>\n",
       "      <td>25889.784870</td>\n",
       "      <td>28926.032340</td>\n",
       "      <td>30470.016700</td>\n",
       "    </tr>\n",
       "    <tr>\n",
       "      <th>Germany</th>\n",
       "      <td>7144.114393</td>\n",
       "      <td>10187.826650</td>\n",
       "      <td>12902.462910</td>\n",
       "      <td>14745.625610</td>\n",
       "      <td>18016.180270</td>\n",
       "      <td>20512.921230</td>\n",
       "      <td>22031.532740</td>\n",
       "      <td>24639.185660</td>\n",
       "      <td>26505.303170</td>\n",
       "      <td>27788.884160</td>\n",
       "      <td>30035.801980</td>\n",
       "      <td>32170.374420</td>\n",
       "    </tr>\n",
       "    <tr>\n",
       "      <th>Greece</th>\n",
       "      <td>3530.690067</td>\n",
       "      <td>4916.299889</td>\n",
       "      <td>6017.190733</td>\n",
       "      <td>8513.097016</td>\n",
       "      <td>12724.829570</td>\n",
       "      <td>14195.524280</td>\n",
       "      <td>15268.420890</td>\n",
       "      <td>16120.528390</td>\n",
       "      <td>17541.496340</td>\n",
       "      <td>18747.698140</td>\n",
       "      <td>22514.254800</td>\n",
       "      <td>27538.411880</td>\n",
       "    </tr>\n",
       "    <tr>\n",
       "      <th>Hungary</th>\n",
       "      <td>5263.673816</td>\n",
       "      <td>6040.180011</td>\n",
       "      <td>7550.359877</td>\n",
       "      <td>9326.644670</td>\n",
       "      <td>10168.656110</td>\n",
       "      <td>11674.837370</td>\n",
       "      <td>12545.990660</td>\n",
       "      <td>12986.479980</td>\n",
       "      <td>10535.628550</td>\n",
       "      <td>11712.776800</td>\n",
       "      <td>14843.935560</td>\n",
       "      <td>18008.944440</td>\n",
       "    </tr>\n",
       "    <tr>\n",
       "      <th>Iceland</th>\n",
       "      <td>7267.688428</td>\n",
       "      <td>9244.001412</td>\n",
       "      <td>10350.159060</td>\n",
       "      <td>13319.895680</td>\n",
       "      <td>15798.063620</td>\n",
       "      <td>19654.962470</td>\n",
       "      <td>23269.607500</td>\n",
       "      <td>26923.206280</td>\n",
       "      <td>25144.392010</td>\n",
       "      <td>28061.099660</td>\n",
       "      <td>31163.201960</td>\n",
       "      <td>36180.789190</td>\n",
       "    </tr>\n",
       "    <tr>\n",
       "      <th>Ireland</th>\n",
       "      <td>5210.280328</td>\n",
       "      <td>5599.077872</td>\n",
       "      <td>6631.597314</td>\n",
       "      <td>7655.568963</td>\n",
       "      <td>9530.772896</td>\n",
       "      <td>11150.981130</td>\n",
       "      <td>12618.321410</td>\n",
       "      <td>13872.866520</td>\n",
       "      <td>17558.815550</td>\n",
       "      <td>24521.947130</td>\n",
       "      <td>34077.049390</td>\n",
       "      <td>40675.996350</td>\n",
       "    </tr>\n",
       "    <tr>\n",
       "      <th>Italy</th>\n",
       "      <td>4931.404155</td>\n",
       "      <td>6248.656232</td>\n",
       "      <td>8243.582340</td>\n",
       "      <td>10022.401310</td>\n",
       "      <td>12269.273780</td>\n",
       "      <td>14255.984750</td>\n",
       "      <td>16537.483500</td>\n",
       "      <td>19207.234820</td>\n",
       "      <td>22013.644860</td>\n",
       "      <td>24675.024460</td>\n",
       "      <td>27968.098170</td>\n",
       "      <td>28569.719700</td>\n",
       "    </tr>\n",
       "    <tr>\n",
       "      <th>Montenegro</th>\n",
       "      <td>2647.585601</td>\n",
       "      <td>3682.259903</td>\n",
       "      <td>4649.593785</td>\n",
       "      <td>5907.850937</td>\n",
       "      <td>7778.414017</td>\n",
       "      <td>9595.929905</td>\n",
       "      <td>11222.587620</td>\n",
       "      <td>11732.510170</td>\n",
       "      <td>7003.339037</td>\n",
       "      <td>6465.613349</td>\n",
       "      <td>6557.194282</td>\n",
       "      <td>9253.896111</td>\n",
       "    </tr>\n",
       "    <tr>\n",
       "      <th>Netherlands</th>\n",
       "      <td>8941.571858</td>\n",
       "      <td>11276.193440</td>\n",
       "      <td>12790.849560</td>\n",
       "      <td>15363.251360</td>\n",
       "      <td>18794.745670</td>\n",
       "      <td>21209.059200</td>\n",
       "      <td>21399.460460</td>\n",
       "      <td>23651.323610</td>\n",
       "      <td>26790.949610</td>\n",
       "      <td>30246.130630</td>\n",
       "      <td>33724.757780</td>\n",
       "      <td>36797.933320</td>\n",
       "    </tr>\n",
       "    <tr>\n",
       "      <th>Norway</th>\n",
       "      <td>10095.421720</td>\n",
       "      <td>11653.973040</td>\n",
       "      <td>13450.401510</td>\n",
       "      <td>16361.876470</td>\n",
       "      <td>18965.055510</td>\n",
       "      <td>23311.349390</td>\n",
       "      <td>26298.635310</td>\n",
       "      <td>31540.974800</td>\n",
       "      <td>33965.661150</td>\n",
       "      <td>41283.164330</td>\n",
       "      <td>44683.975250</td>\n",
       "      <td>49357.190170</td>\n",
       "    </tr>\n",
       "    <tr>\n",
       "      <th>Poland</th>\n",
       "      <td>4029.329699</td>\n",
       "      <td>4734.253019</td>\n",
       "      <td>5338.752143</td>\n",
       "      <td>6557.152776</td>\n",
       "      <td>8006.506993</td>\n",
       "      <td>9508.141454</td>\n",
       "      <td>8451.531004</td>\n",
       "      <td>9082.351172</td>\n",
       "      <td>7738.881247</td>\n",
       "      <td>10159.583680</td>\n",
       "      <td>12002.239080</td>\n",
       "      <td>15389.924680</td>\n",
       "    </tr>\n",
       "    <tr>\n",
       "      <th>Portugal</th>\n",
       "      <td>3068.319867</td>\n",
       "      <td>3774.571743</td>\n",
       "      <td>4727.954889</td>\n",
       "      <td>6361.517993</td>\n",
       "      <td>9022.247417</td>\n",
       "      <td>10172.485720</td>\n",
       "      <td>11753.842910</td>\n",
       "      <td>13039.308760</td>\n",
       "      <td>16207.266630</td>\n",
       "      <td>17641.031560</td>\n",
       "      <td>19970.907870</td>\n",
       "      <td>20509.647770</td>\n",
       "    </tr>\n",
       "    <tr>\n",
       "      <th>Romania</th>\n",
       "      <td>3144.613186</td>\n",
       "      <td>3943.370225</td>\n",
       "      <td>4734.997586</td>\n",
       "      <td>6470.866545</td>\n",
       "      <td>8011.414402</td>\n",
       "      <td>9356.397240</td>\n",
       "      <td>9605.314053</td>\n",
       "      <td>9696.273295</td>\n",
       "      <td>6598.409903</td>\n",
       "      <td>7346.547557</td>\n",
       "      <td>7885.360081</td>\n",
       "      <td>10808.475610</td>\n",
       "    </tr>\n",
       "    <tr>\n",
       "      <th>Serbia</th>\n",
       "      <td>3581.459448</td>\n",
       "      <td>4981.090891</td>\n",
       "      <td>6289.629157</td>\n",
       "      <td>7991.707066</td>\n",
       "      <td>10522.067490</td>\n",
       "      <td>12980.669560</td>\n",
       "      <td>15181.092700</td>\n",
       "      <td>15870.878510</td>\n",
       "      <td>9325.068238</td>\n",
       "      <td>7914.320304</td>\n",
       "      <td>7236.075251</td>\n",
       "      <td>9786.534714</td>\n",
       "    </tr>\n",
       "    <tr>\n",
       "      <th>Slovak Republic</th>\n",
       "      <td>5074.659104</td>\n",
       "      <td>6093.262980</td>\n",
       "      <td>7481.107598</td>\n",
       "      <td>8412.902397</td>\n",
       "      <td>9674.167626</td>\n",
       "      <td>10922.664040</td>\n",
       "      <td>11348.545850</td>\n",
       "      <td>12037.267580</td>\n",
       "      <td>9498.467723</td>\n",
       "      <td>12126.230650</td>\n",
       "      <td>13638.778370</td>\n",
       "      <td>18678.314350</td>\n",
       "    </tr>\n",
       "    <tr>\n",
       "      <th>Slovenia</th>\n",
       "      <td>4215.041741</td>\n",
       "      <td>5862.276629</td>\n",
       "      <td>7402.303395</td>\n",
       "      <td>9405.489397</td>\n",
       "      <td>12383.486200</td>\n",
       "      <td>15277.030170</td>\n",
       "      <td>17866.721750</td>\n",
       "      <td>18678.534920</td>\n",
       "      <td>14214.716810</td>\n",
       "      <td>17161.107350</td>\n",
       "      <td>20660.019360</td>\n",
       "      <td>25768.257590</td>\n",
       "    </tr>\n",
       "    <tr>\n",
       "      <th>Spain</th>\n",
       "      <td>3834.034742</td>\n",
       "      <td>4564.802410</td>\n",
       "      <td>5693.843879</td>\n",
       "      <td>7993.512294</td>\n",
       "      <td>10638.751310</td>\n",
       "      <td>13236.921170</td>\n",
       "      <td>13926.169970</td>\n",
       "      <td>15764.983130</td>\n",
       "      <td>18603.064520</td>\n",
       "      <td>20445.298960</td>\n",
       "      <td>24835.471660</td>\n",
       "      <td>28821.063700</td>\n",
       "    </tr>\n",
       "    <tr>\n",
       "      <th>Sweden</th>\n",
       "      <td>8527.844662</td>\n",
       "      <td>9911.878226</td>\n",
       "      <td>12329.441920</td>\n",
       "      <td>15258.296970</td>\n",
       "      <td>17832.024640</td>\n",
       "      <td>18855.725210</td>\n",
       "      <td>20667.381250</td>\n",
       "      <td>23586.929270</td>\n",
       "      <td>23880.016830</td>\n",
       "      <td>25266.594990</td>\n",
       "      <td>29341.630930</td>\n",
       "      <td>33859.748350</td>\n",
       "    </tr>\n",
       "    <tr>\n",
       "      <th>Switzerland</th>\n",
       "      <td>14734.232750</td>\n",
       "      <td>17909.489730</td>\n",
       "      <td>20431.092700</td>\n",
       "      <td>22966.144320</td>\n",
       "      <td>27195.113040</td>\n",
       "      <td>26982.290520</td>\n",
       "      <td>28397.715120</td>\n",
       "      <td>30281.704590</td>\n",
       "      <td>31871.530300</td>\n",
       "      <td>32135.323010</td>\n",
       "      <td>34480.957710</td>\n",
       "      <td>37506.419070</td>\n",
       "    </tr>\n",
       "    <tr>\n",
       "      <th>Turkey</th>\n",
       "      <td>1969.100980</td>\n",
       "      <td>2218.754257</td>\n",
       "      <td>2322.869908</td>\n",
       "      <td>2826.356387</td>\n",
       "      <td>3450.696380</td>\n",
       "      <td>4269.122326</td>\n",
       "      <td>4241.356344</td>\n",
       "      <td>5089.043686</td>\n",
       "      <td>5678.348271</td>\n",
       "      <td>6601.429915</td>\n",
       "      <td>6508.085718</td>\n",
       "      <td>8458.276384</td>\n",
       "    </tr>\n",
       "    <tr>\n",
       "      <th>United Kingdom</th>\n",
       "      <td>9979.508487</td>\n",
       "      <td>11283.177950</td>\n",
       "      <td>12477.177070</td>\n",
       "      <td>14142.850890</td>\n",
       "      <td>15895.116410</td>\n",
       "      <td>17428.748460</td>\n",
       "      <td>18232.424520</td>\n",
       "      <td>21664.787670</td>\n",
       "      <td>22705.092540</td>\n",
       "      <td>26074.531360</td>\n",
       "      <td>29478.999190</td>\n",
       "      <td>33203.261280</td>\n",
       "    </tr>\n",
       "  </tbody>\n",
       "</table>\n",
       "</div>"
      ],
      "text/plain": [
       "                        gdpPercap_1952  gdpPercap_1957  gdpPercap_1962  \\\n",
       "country                                                                  \n",
       "Albania                    1601.056136     1942.284244     2312.888958   \n",
       "Austria                    6137.076492     8842.598030    10750.721110   \n",
       "Belgium                    8343.105127     9714.960623    10991.206760   \n",
       "Bosnia and Herzegovina      973.533195     1353.989176     1709.683679   \n",
       "Bulgaria                   2444.286648     3008.670727     4254.337839   \n",
       "Croatia                    3119.236520     4338.231617     5477.890018   \n",
       "Czech Republic             6876.140250     8256.343918    10136.867130   \n",
       "Denmark                    9692.385245    11099.659350    13583.313510   \n",
       "Finland                    6424.519071     7545.415386     9371.842561   \n",
       "France                     7029.809327     8662.834898    10560.485530   \n",
       "Germany                    7144.114393    10187.826650    12902.462910   \n",
       "Greece                     3530.690067     4916.299889     6017.190733   \n",
       "Hungary                    5263.673816     6040.180011     7550.359877   \n",
       "Iceland                    7267.688428     9244.001412    10350.159060   \n",
       "Ireland                    5210.280328     5599.077872     6631.597314   \n",
       "Italy                      4931.404155     6248.656232     8243.582340   \n",
       "Montenegro                 2647.585601     3682.259903     4649.593785   \n",
       "Netherlands                8941.571858    11276.193440    12790.849560   \n",
       "Norway                    10095.421720    11653.973040    13450.401510   \n",
       "Poland                     4029.329699     4734.253019     5338.752143   \n",
       "Portugal                   3068.319867     3774.571743     4727.954889   \n",
       "Romania                    3144.613186     3943.370225     4734.997586   \n",
       "Serbia                     3581.459448     4981.090891     6289.629157   \n",
       "Slovak Republic            5074.659104     6093.262980     7481.107598   \n",
       "Slovenia                   4215.041741     5862.276629     7402.303395   \n",
       "Spain                      3834.034742     4564.802410     5693.843879   \n",
       "Sweden                     8527.844662     9911.878226    12329.441920   \n",
       "Switzerland               14734.232750    17909.489730    20431.092700   \n",
       "Turkey                     1969.100980     2218.754257     2322.869908   \n",
       "United Kingdom             9979.508487    11283.177950    12477.177070   \n",
       "\n",
       "                        gdpPercap_1967  gdpPercap_1972  gdpPercap_1977  \\\n",
       "country                                                                  \n",
       "Albania                    2760.196931     3313.422188     3533.003910   \n",
       "Austria                   12834.602400    16661.625600    19749.422300   \n",
       "Belgium                   13149.041190    16672.143560    19117.974480   \n",
       "Bosnia and Herzegovina     2172.352423     2860.169750     3528.481305   \n",
       "Bulgaria                   5577.002800     6597.494398     7612.240438   \n",
       "Croatia                    6960.297861     9164.090127    11305.385170   \n",
       "Czech Republic            11399.444890    13108.453600    14800.160620   \n",
       "Denmark                   15937.211230    18866.207210    20422.901500   \n",
       "Finland                   10921.636260    14358.875900    15605.422830   \n",
       "France                    12999.917660    16107.191710    18292.635140   \n",
       "Germany                   14745.625610    18016.180270    20512.921230   \n",
       "Greece                     8513.097016    12724.829570    14195.524280   \n",
       "Hungary                    9326.644670    10168.656110    11674.837370   \n",
       "Iceland                   13319.895680    15798.063620    19654.962470   \n",
       "Ireland                    7655.568963     9530.772896    11150.981130   \n",
       "Italy                     10022.401310    12269.273780    14255.984750   \n",
       "Montenegro                 5907.850937     7778.414017     9595.929905   \n",
       "Netherlands               15363.251360    18794.745670    21209.059200   \n",
       "Norway                    16361.876470    18965.055510    23311.349390   \n",
       "Poland                     6557.152776     8006.506993     9508.141454   \n",
       "Portugal                   6361.517993     9022.247417    10172.485720   \n",
       "Romania                    6470.866545     8011.414402     9356.397240   \n",
       "Serbia                     7991.707066    10522.067490    12980.669560   \n",
       "Slovak Republic            8412.902397     9674.167626    10922.664040   \n",
       "Slovenia                   9405.489397    12383.486200    15277.030170   \n",
       "Spain                      7993.512294    10638.751310    13236.921170   \n",
       "Sweden                    15258.296970    17832.024640    18855.725210   \n",
       "Switzerland               22966.144320    27195.113040    26982.290520   \n",
       "Turkey                     2826.356387     3450.696380     4269.122326   \n",
       "United Kingdom            14142.850890    15895.116410    17428.748460   \n",
       "\n",
       "                        gdpPercap_1982  gdpPercap_1987  gdpPercap_1992  \\\n",
       "country                                                                  \n",
       "Albania                    3630.880722     3738.932735     2497.437901   \n",
       "Austria                   21597.083620    23687.826070    27042.018680   \n",
       "Belgium                   20979.845890    22525.563080    25575.570690   \n",
       "Bosnia and Herzegovina     4126.613157     4314.114757     2546.781445   \n",
       "Bulgaria                   8224.191647     8239.854824     6302.623438   \n",
       "Croatia                   13221.821840    13822.583940     8447.794873   \n",
       "Czech Republic            15377.228550    16310.443400    14297.021220   \n",
       "Denmark                   21688.040480    25116.175810    26406.739850   \n",
       "Finland                   18533.157610    21141.012230    20647.164990   \n",
       "France                    20293.897460    22066.442140    24703.796150   \n",
       "Germany                   22031.532740    24639.185660    26505.303170   \n",
       "Greece                    15268.420890    16120.528390    17541.496340   \n",
       "Hungary                   12545.990660    12986.479980    10535.628550   \n",
       "Iceland                   23269.607500    26923.206280    25144.392010   \n",
       "Ireland                   12618.321410    13872.866520    17558.815550   \n",
       "Italy                     16537.483500    19207.234820    22013.644860   \n",
       "Montenegro                11222.587620    11732.510170     7003.339037   \n",
       "Netherlands               21399.460460    23651.323610    26790.949610   \n",
       "Norway                    26298.635310    31540.974800    33965.661150   \n",
       "Poland                     8451.531004     9082.351172     7738.881247   \n",
       "Portugal                  11753.842910    13039.308760    16207.266630   \n",
       "Romania                    9605.314053     9696.273295     6598.409903   \n",
       "Serbia                    15181.092700    15870.878510     9325.068238   \n",
       "Slovak Republic           11348.545850    12037.267580     9498.467723   \n",
       "Slovenia                  17866.721750    18678.534920    14214.716810   \n",
       "Spain                     13926.169970    15764.983130    18603.064520   \n",
       "Sweden                    20667.381250    23586.929270    23880.016830   \n",
       "Switzerland               28397.715120    30281.704590    31871.530300   \n",
       "Turkey                     4241.356344     5089.043686     5678.348271   \n",
       "United Kingdom            18232.424520    21664.787670    22705.092540   \n",
       "\n",
       "                        gdpPercap_1997  gdpPercap_2002  gdpPercap_2007  \n",
       "country                                                                 \n",
       "Albania                    3193.054604     4604.211737     5937.029526  \n",
       "Austria                   29095.920660    32417.607690    36126.492700  \n",
       "Belgium                   27561.196630    30485.883750    33692.605080  \n",
       "Bosnia and Herzegovina     4766.355904     6018.975239     7446.298803  \n",
       "Bulgaria                   5970.388760     7696.777725    10680.792820  \n",
       "Croatia                    9875.604515    11628.388950    14619.222720  \n",
       "Czech Republic            16048.514240    17596.210220    22833.308510  \n",
       "Denmark                   29804.345670    32166.500060    35278.418740  \n",
       "Finland                   23723.950200    28204.590570    33207.084400  \n",
       "France                    25889.784870    28926.032340    30470.016700  \n",
       "Germany                   27788.884160    30035.801980    32170.374420  \n",
       "Greece                    18747.698140    22514.254800    27538.411880  \n",
       "Hungary                   11712.776800    14843.935560    18008.944440  \n",
       "Iceland                   28061.099660    31163.201960    36180.789190  \n",
       "Ireland                   24521.947130    34077.049390    40675.996350  \n",
       "Italy                     24675.024460    27968.098170    28569.719700  \n",
       "Montenegro                 6465.613349     6557.194282     9253.896111  \n",
       "Netherlands               30246.130630    33724.757780    36797.933320  \n",
       "Norway                    41283.164330    44683.975250    49357.190170  \n",
       "Poland                    10159.583680    12002.239080    15389.924680  \n",
       "Portugal                  17641.031560    19970.907870    20509.647770  \n",
       "Romania                    7346.547557     7885.360081    10808.475610  \n",
       "Serbia                     7914.320304     7236.075251     9786.534714  \n",
       "Slovak Republic           12126.230650    13638.778370    18678.314350  \n",
       "Slovenia                  17161.107350    20660.019360    25768.257590  \n",
       "Spain                     20445.298960    24835.471660    28821.063700  \n",
       "Sweden                    25266.594990    29341.630930    33859.748350  \n",
       "Switzerland               32135.323010    34480.957710    37506.419070  \n",
       "Turkey                     6601.429915     6508.085718     8458.276384  \n",
       "United Kingdom            26074.531360    29478.999190    33203.261280  "
      ]
     },
     "execution_count": 82,
     "metadata": {},
     "output_type": "execute_result"
    }
   ],
   "source": [
    "#first there is a mistake in the first line, but we can fix it later\n",
    "\n",
    "data_europe = pandas.read_csv('data/gapminder_gdp_europe.csv')\n",
    "data_europe = data_europe.set_index('country')\n",
    "data_europe"
   ]
  },
  {
   "cell_type": "code",
   "execution_count": 83,
   "metadata": {
    "collapsed": false
   },
   "outputs": [
    {
     "data": {
      "text/plain": [
       "(array([  0.,   2.,   4.,   6.,   8.,  10.,  12.]),\n",
       " <a list of 7 Text xticklabel objects>)"
      ]
     },
     "execution_count": 83,
     "metadata": {},
     "output_type": "execute_result"
    },
    {
     "data": {
      "image/png": "[encoded data removed]",
      "text/plain": [
       "<matplotlib.figure.Figure at 0x7f860f2a1f98>"
      ]
     },
     "metadata": {},
     "output_type": "display_data"
    }
   ],
   "source": [
    "data_europe.T.min(axis=1).plot(label='min')\n",
    "data_europe.T.max(axis=1).plot(label='max')\n",
    "plt.legend(loc='best')\n",
    "plt.ylabel('GDP per capita')\n",
    "plt.xticks(rotation=90)"
   ]
  },
  {
   "cell_type": "markdown",
   "metadata": {},
   "source": [
    "##### Problem 2"
   ]
  },
  {
   "cell_type": "markdown",
   "metadata": {},
   "source": [
    "Modify the example in the notes to create a scatter plot showing the relationship between the minimum and maximum GDP per capita among the countries in Asia for each year in the data set. What relationship do you see (if any)?"
   ]
  },
  {
   "cell_type": "code",
   "execution_count": 57,
   "metadata": {
    "collapsed": false
   },
   "outputs": [
    {
     "name": "stdout",
     "output_type": "stream",
     "text": [
      "gdpPercap_1952    331.0\n",
      "gdpPercap_1957    350.0\n",
      "gdpPercap_1962    388.0\n",
      "gdpPercap_1967    349.0\n",
      "gdpPercap_1972    357.0\n",
      "gdpPercap_1977    371.0\n",
      "gdpPercap_1982    424.0\n",
      "gdpPercap_1987    385.0\n",
      "gdpPercap_1992    347.0\n",
      "gdpPercap_1997    415.0\n",
      "gdpPercap_2002    611.0\n",
      "gdpPercap_2007    944.0\n",
      "Name: min, dtype: float64\n",
      "gdpPercap_1952    108382.35290\n",
      "gdpPercap_1957    113523.13290\n",
      "gdpPercap_1962     95458.11176\n",
      "gdpPercap_1967     80894.88326\n",
      "gdpPercap_1972    109347.86700\n",
      "gdpPercap_1977     59265.47714\n",
      "gdpPercap_1982     33693.17525\n",
      "gdpPercap_1987     28118.42998\n",
      "gdpPercap_1992     34932.91959\n",
      "gdpPercap_1997     40300.61996\n",
      "gdpPercap_2002     36023.10540\n",
      "gdpPercap_2007     47306.98978\n",
      "Name: max, dtype: float64\n"
     ]
    },
    {
     "data": {
      "text/plain": [
       "[<matplotlib.lines.Line2D at 0x7f860f0a52e8>]"
      ]
     },
     "execution_count": 57,
     "metadata": {},
     "output_type": "execute_result"
    },
    {
     "data": {
      "image/png": "[encoded data removed]",
      "text/plain": [
       "<matplotlib.figure.Figure at 0x7f860f2c2668>"
      ]
     },
     "metadata": {},
     "output_type": "display_data"
    }
   ],
   "source": [
    "data_asia = pandas.read_csv('data/gapminder_gdp_asia.csv', index_col='country')\n",
    "x = data_asia.describe().ix['min',:]\n",
    "y = data_asia.describe().ix['max',:]\n",
    "\n",
    "print(x)\n",
    "print(y)\n",
    "plt.plot(x,y,'c^')"
   ]
  },
  {
   "cell_type": "code",
   "execution_count": 58,
   "metadata": {
    "collapsed": false
   },
   "outputs": [
    {
     "data": {
      "text/plain": [
       "<matplotlib.axes._subplots.AxesSubplot at 0x7f860f0b6c18>"
      ]
     },
     "execution_count": 58,
     "metadata": {},
     "output_type": "execute_result"
    },
    {
     "data": {
      "image/png": "[encoded data removed]",
      "text/plain": [
       "<matplotlib.figure.Figure at 0x7f860f048d68>"
      ]
     },
     "metadata": {},
     "output_type": "display_data"
    }
   ],
   "source": [
    "data_asia.describe().T.plot(kind='scatter', x='min', y='max')"
   ]
  },
  {
   "cell_type": "markdown",
   "metadata": {},
   "source": [
    "You might note that the variability in the maximum is much higher than that of the minimum. Take a look at the maximum and the max indexes:"
   ]
  },
  {
   "cell_type": "code",
   "execution_count": 59,
   "metadata": {
    "collapsed": false
   },
   "outputs": [
    {
     "name": "stdout",
     "output_type": "stream",
     "text": [
      "gdpPercap_1952          Kuwait\n",
      "gdpPercap_1957          Kuwait\n",
      "gdpPercap_1962          Kuwait\n",
      "gdpPercap_1967          Kuwait\n",
      "gdpPercap_1972          Kuwait\n",
      "gdpPercap_1977          Kuwait\n",
      "gdpPercap_1982    Saudi Arabia\n",
      "gdpPercap_1987          Kuwait\n",
      "gdpPercap_1992          Kuwait\n",
      "gdpPercap_1997          Kuwait\n",
      "gdpPercap_2002       Singapore\n",
      "gdpPercap_2007          Kuwait\n",
      "dtype: object\n",
      "gdpPercap_1952    Myanmar\n",
      "gdpPercap_1957    Myanmar\n",
      "gdpPercap_1962    Myanmar\n",
      "gdpPercap_1967    Myanmar\n",
      "gdpPercap_1972    Myanmar\n",
      "gdpPercap_1977    Myanmar\n",
      "gdpPercap_1982    Myanmar\n",
      "gdpPercap_1987    Myanmar\n",
      "gdpPercap_1992    Myanmar\n",
      "gdpPercap_1997    Myanmar\n",
      "gdpPercap_2002    Myanmar\n",
      "gdpPercap_2007    Myanmar\n",
      "dtype: object\n"
     ]
    },
    {
     "data": {
      "text/plain": [
       "(array([  0.,   2.,   4.,   6.,   8.,  10.,  12.]),\n",
       " <a list of 7 Text xticklabel objects>)"
      ]
     },
     "execution_count": 59,
     "metadata": {},
     "output_type": "execute_result"
    },
    {
     "data": {
      "image/png": "[encoded data removed]",
      "text/plain": [
       "<matplotlib.figure.Figure at 0x7f860efbe5f8>"
      ]
     },
     "metadata": {},
     "output_type": "display_data"
    }
   ],
   "source": [
    "data_asia.max().plot()\n",
    "print(data_asia.idxmax())\n",
    "print(data_asia.idxmin())\n",
    "plt.xticks(rotation=90)"
   ]
  },
  {
   "cell_type": "code",
   "execution_count": 60,
   "metadata": {
    "collapsed": false
   },
   "outputs": [
    {
     "name": "stdout",
     "output_type": "stream",
     "text": [
      "gdpPercap_1952          Kuwait\n",
      "gdpPercap_1957          Kuwait\n",
      "gdpPercap_1962          Kuwait\n",
      "gdpPercap_1967          Kuwait\n",
      "gdpPercap_1972          Kuwait\n",
      "gdpPercap_1977          Kuwait\n",
      "gdpPercap_1982    Saudi Arabia\n",
      "gdpPercap_1987          Kuwait\n",
      "gdpPercap_1992          Kuwait\n",
      "gdpPercap_1997          Kuwait\n",
      "gdpPercap_2002       Singapore\n",
      "gdpPercap_2007          Kuwait\n",
      "dtype: object\n",
      "gdpPercap_1952    Myanmar\n",
      "gdpPercap_1957    Myanmar\n",
      "gdpPercap_1962    Myanmar\n",
      "gdpPercap_1967    Myanmar\n",
      "gdpPercap_1972    Myanmar\n",
      "gdpPercap_1977    Myanmar\n",
      "gdpPercap_1982    Myanmar\n",
      "gdpPercap_1987    Myanmar\n",
      "gdpPercap_1992    Myanmar\n",
      "gdpPercap_1997    Myanmar\n",
      "gdpPercap_2002    Myanmar\n",
      "gdpPercap_2007    Myanmar\n",
      "dtype: object\n"
     ]
    }
   ],
   "source": [
    "data_asia.max()\n",
    "print(data_asia.idxmax())\n",
    "print(data_asia.idxmin())"
   ]
  },
  {
   "cell_type": "markdown",
   "metadata": {},
   "source": [
    "##### Problem 4\n",
    "\n",
    "This short programs creates a plot showing the correlation between GDP and life expectancy for 2007, normalizing marker size by population:"
   ]
  },
  {
   "cell_type": "code",
   "execution_count": 61,
   "metadata": {
    "collapsed": false
   },
   "outputs": [
    {
     "data": {
      "text/plain": [
       "<matplotlib.axes._subplots.AxesSubplot at 0x7f860efed240>"
      ]
     },
     "execution_count": 61,
     "metadata": {},
     "output_type": "execute_result"
    },
    {
     "data": {
      "image/png": "[encoded data removed]",
      "text/plain": [
       "<matplotlib.figure.Figure at 0x7f860efc3710>"
      ]
     },
     "metadata": {},
     "output_type": "display_data"
    }
   ],
   "source": [
    "data_all = pandas.read_csv('data/gapminder_all.csv')\n",
    "data_all.plot(kind='scatter', x='gdpPercap_2007', y='lifeExp_2007',\n",
    "              s=data_all['pop_2007']/1e6)"
   ]
  },
  {
   "cell_type": "markdown",
   "metadata": {},
   "source": [
    "---------------------------\n",
    "### 5.0 Functions"
   ]
  },
  {
   "cell_type": "markdown",
   "metadata": {},
   "source": [
    "#### Break programs down into functions to make them easier to understand.\n",
    "\n",
    "- Human beings can only keep a few items in working memory at a time.\n",
    "- Understand larger/more complicated ideas by understanding and combining pieces.\n",
    "    - Components in a machine.\n",
    "    - Lemmas when proving theorems.\n",
    "- Functions serve the same purpose in programs.\n",
    "    - *Encapsulate* complexity so that we can treat it as a single “thing”.\n",
    "- Also enables re-use.\n",
    "    - Write one time, use many times."
   ]
  },
  {
   "cell_type": "markdown",
   "metadata": {},
   "source": [
    "#### Define a function using def with a name, parameters, and a block of code.\n",
    "- Begin the definition of a new function with def.\n",
    "- Followed by the name of the function.\n",
    "    - Must obey the same rules as variable names.\n",
    "- Then parameters in parentheses.\n",
    "    - Empty parentheses if the function doesn’t take any inputs.\n",
    "    - We will discuss this in detail in a moment.\n",
    "- Then a colon.\n",
    "- Then an indented block of code."
   ]
  },
  {
   "cell_type": "code",
   "execution_count": 62,
   "metadata": {
    "collapsed": true
   },
   "outputs": [],
   "source": [
    "def print_greeting():\n",
    "    print('Hello!')"
   ]
  },
  {
   "cell_type": "markdown",
   "metadata": {},
   "source": [
    "#### Defining a function does not run it.\n",
    "- Defining a function does not run it.\n",
    "    - Like assigning a value to a variable.\n",
    "- Must call the function to execute the code it contains."
   ]
  },
  {
   "cell_type": "code",
   "execution_count": 63,
   "metadata": {
    "collapsed": false
   },
   "outputs": [
    {
     "name": "stdout",
     "output_type": "stream",
     "text": [
      "Hello!\n"
     ]
    }
   ],
   "source": [
    "print_greeting()"
   ]
  },
  {
   "cell_type": "markdown",
   "metadata": {},
   "source": [
    "#### Arguments in call are matched to parameters in definition.\n",
    "- Functions are most useful when they can operate on different data.\n",
    "- Specify parameters when defining a function.\n",
    "    - These become variables when the function is executed.\n",
    "    - Are assigned the arguments in the call (i.e., the values passed to the function)."
   ]
  },
  {
   "cell_type": "code",
   "execution_count": 64,
   "metadata": {
    "collapsed": false
   },
   "outputs": [
    {
     "name": "stdout",
     "output_type": "stream",
     "text": [
      "1871/3/19\n"
     ]
    }
   ],
   "source": [
    "def print_date(year, month, day):\n",
    "    joined = str(year) + '/' + str(month) + '/' + str(day)\n",
    "    print(joined)\n",
    "\n",
    "print_date(1871, 3, 19)"
   ]
  },
  {
   "cell_type": "markdown",
   "metadata": {},
   "source": [
    "Via Twitter: () contains the ingredients for the function while the body contains the recipe.\n",
    "\n",
    "![https://twitter.com/minisciencegirl/status/693486088963272705]"
   ]
  },
  {
   "cell_type": "markdown",
   "metadata": {},
   "source": [
    "#### Functions may return a result to their caller using return.\n",
    "- Use return ... to give a value back to the caller.\n",
    "- May occur anywhere in the function.\n",
    "- But functions are easier to understand if return occurs:\n",
    "    - At the start to handle special cases.\n",
    "    - At the very end, with a final result."
   ]
  },
  {
   "cell_type": "code",
   "execution_count": 65,
   "metadata": {
    "collapsed": true
   },
   "outputs": [],
   "source": [
    "def average(values):\n",
    "    if len(values) == 0:\n",
    "        return None\n",
    "    return sum(values) / len(values)"
   ]
  },
  {
   "cell_type": "code",
   "execution_count": 66,
   "metadata": {
    "collapsed": false
   },
   "outputs": [
    {
     "name": "stdout",
     "output_type": "stream",
     "text": [
      "average of actual values: 2.6666666666666665\n"
     ]
    }
   ],
   "source": [
    "a = average([1, 3, 4])\n",
    "print('average of actual values:', a)"
   ]
  },
  {
   "cell_type": "code",
   "execution_count": 67,
   "metadata": {
    "collapsed": false
   },
   "outputs": [
    {
     "data": {
      "text/plain": [
       "2.6666666666666665"
      ]
     },
     "execution_count": 67,
     "metadata": {},
     "output_type": "execute_result"
    }
   ],
   "source": [
    "2.6666666666666665"
   ]
  },
  {
   "cell_type": "markdown",
   "metadata": {},
   "source": [
    "Remember: [every function returns something.](https://ntmoore.github.io/python-novice-gapminder-ntm/04-built-in/)\n",
    "A function that doesn’t explicitly return a value automatically returns None."
   ]
  },
  {
   "cell_type": "code",
   "execution_count": 68,
   "metadata": {
    "collapsed": false
   },
   "outputs": [
    {
     "name": "stdout",
     "output_type": "stream",
     "text": [
      "1871/3/19\n",
      "result of call is: None\n"
     ]
    }
   ],
   "source": [
    "result = print_date(1871, 3, 19)\n",
    "print('result of call is:', result)"
   ]
  },
  {
   "cell_type": "markdown",
   "metadata": {},
   "source": [
    "#### pRACTICE"
   ]
  },
  {
   "cell_type": "markdown",
   "metadata": {},
   "source": [
    "##### problem 1\n",
    "What does the following program print?\n",
    "\n",
    "    def report(pressure):\n",
    "        print('pressure is', pressure)\n",
    "\n",
    "    print('calling', report, 22.5)"
   ]
  },
  {
   "cell_type": "markdown",
   "metadata": {},
   "source": [
    "##### problem 2\n",
    "The example above:\n",
    "\n",
    "    result = print_date(1871, 3, 19)\n",
    "    print('result of call is:', result)\n",
    "    \n",
    "printed:\n",
    "\n",
    "    1871/3/19\n",
    "    result of call is: None\n",
    "    \n",
    "Explain why the two lines of output appeared in the order they did."
   ]
  },
  {
   "cell_type": "code",
   "execution_count": null,
   "metadata": {
    "collapsed": true
   },
   "outputs": [],
   "source": []
  },
  {
   "cell_type": "markdown",
   "metadata": {},
   "source": [
    "##### problem 6\n",
    "\n",
    "Assume that the following code has been executed:\n",
    "\n",
    "    import pandas\n",
    "\n",
    "    df = pandas.read_csv('gapminder_gdp_asia.csv', index_col=0)\n",
    "    japan = df.ix['Japan']\n",
    "    \n",
    "Complete the statements below to obtain the average GDP for Japan across the years reported for the 1980s.\n",
    "\n",
    "    year = 1983\n",
    "    gdp_decade = 'gdpPercap_' + str(year // ____)\n",
    "    avg = (japan.ix[gdp_decade + ___] + japan.ix[gdp_decade + ___]) / 2\n",
    "\n",
    "Abstract the code above into a single function.\n",
    "   \n",
    "    def avg_gdp_in_decade(country, continent, year):\n",
    "        df = pd.read_csv('gapminder_gdp_'+___+'.csv',\n",
    "                          delimiter=',',index_col=0)\n",
    "        ____\n",
    "        ____\n",
    "        ____\n",
    "        return avg\n",
    "\n",
    "How would you generalize this function if you did not know beforehand which specific years occurred as columns in the data? For instance, what if we also had data from years ending in 1 and 9 for each decade? (Hint: use the columns to filter out the ones that correspond to the decade, instead of enumerating them in the code.)\n"
   ]
  },
  {
   "cell_type": "code",
   "execution_count": 69,
   "metadata": {
    "collapsed": false
   },
   "outputs": [],
   "source": [
    "import pandas\n",
    "\n",
    "df = pandas.read_csv('data/gapminder_gdp_asia.csv', index_col=0)\n",
    "japan = df.ix['Japan']"
   ]
  },
  {
   "cell_type": "code",
   "execution_count": 70,
   "metadata": {
    "collapsed": false
   },
   "outputs": [
    {
     "name": "stdout",
     "output_type": "stream",
     "text": [
      "20880.0238\n"
     ]
    }
   ],
   "source": [
    "year = 1983\n",
    "gdp_decade = 'gdpPercap_' + str(year // 10)\n",
    "avg = (japan.ix[gdp_decade + '2'] + japan.ix[gdp_decade + '7']) / 2\n",
    "print(avg)"
   ]
  },
  {
   "cell_type": "code",
   "execution_count": 71,
   "metadata": {
    "collapsed": true
   },
   "outputs": [],
   "source": [
    "def avg_gdp_in_decade(country, continent, year):\n",
    "    df = pandas.read_csv('data/gapminder_gdp_' + continent + '.csv', index_col=0)\n",
    "    c = df.ix[country]\n",
    "    gdp_decade = 'gdpPercap_' + str(year // 10)\n",
    "    avg = (c.ix[gdp_decade + '2'] + c.ix[gdp_decade + '7'])/2\n",
    "    return avg"
   ]
  },
  {
   "cell_type": "code",
   "execution_count": 72,
   "metadata": {
    "collapsed": true
   },
   "outputs": [],
   "source": [
    "def avg_gdp_in_decade(country, continent, year):\n",
    "    df = pandas.read_csv('data/gapminder_gdp_' + continent + '.csv', index_col=0)\n",
    "    c = df.ix[country] \n",
    "    gdp_decade = 'gdpPercap_' + str(year // 10)\n",
    "    total = 0.0\n",
    "    num_years = 0\n",
    "    for yr_header in c.index: # c's index contains reported years\n",
    "        if yr_header.startswith(gdp_decade):\n",
    "            total = total + c.ix[yr_header]\n",
    "            num_years = num_years + 1\n",
    "    return total/num_years"
   ]
  },
  {
   "cell_type": "code",
   "execution_count": 73,
   "metadata": {
    "collapsed": true
   },
   "outputs": [
    {
     "ename": "KeyError",
     "evalue": "'japan'",
     "output_type": "error",
     "traceback": [
      "\u001b[0;31m---------------------------------------------------------------------------\u001b[0m",
      "\u001b[0;31mKeyError\u001b[0m                                  Traceback (most recent call last)",
      "\u001b[0;32m/home/softwarecarpentry/anaconda3/lib/python3.6/site-packages/pandas/indexes/base.py\u001b[0m in \u001b[0;36mget_loc\u001b[0;34m(self, key, method, tolerance)\u001b[0m\n\u001b[1;32m   2133\u001b[0m             \u001b[0;32mtry\u001b[0m\u001b[0;34m:\u001b[0m\u001b[0;34m\u001b[0m\u001b[0m\n\u001b[0;32m-> 2134\u001b[0;31m                 \u001b[0;32mreturn\u001b[0m \u001b[0mself\u001b[0m\u001b[0;34m.\u001b[0m\u001b[0m_engine\u001b[0m\u001b[0;34m.\u001b[0m\u001b[0mget_loc\u001b[0m\u001b[0;34m(\u001b[0m\u001b[0mkey\u001b[0m\u001b[0;34m)\u001b[0m\u001b[0;34m\u001b[0m\u001b[0m\n\u001b[0m\u001b[1;32m   2135\u001b[0m             \u001b[0;32mexcept\u001b[0m \u001b[0mKeyError\u001b[0m\u001b[0;34m:\u001b[0m\u001b[0;34m\u001b[0m\u001b[0m\n",
      "\u001b[0;32mpandas/index.pyx\u001b[0m in \u001b[0;36mpandas.index.IndexEngine.get_loc (pandas/index.c:4433)\u001b[0;34m()\u001b[0m\n",
      "\u001b[0;32mpandas/index.pyx\u001b[0m in \u001b[0;36mpandas.index.IndexEngine.get_loc (pandas/index.c:4279)\u001b[0;34m()\u001b[0m\n",
      "\u001b[0;32mpandas/src/hashtable_class_helper.pxi\u001b[0m in \u001b[0;36mpandas.hashtable.PyObjectHashTable.get_item (pandas/hashtable.c:13742)\u001b[0;34m()\u001b[0m\n",
      "\u001b[0;32mpandas/src/hashtable_class_helper.pxi\u001b[0m in \u001b[0;36mpandas.hashtable.PyObjectHashTable.get_item (pandas/hashtable.c:13696)\u001b[0;34m()\u001b[0m\n",
      "\u001b[0;31mKeyError\u001b[0m: 'japan'",
      "\nDuring handling of the above exception, another exception occurred:\n",
      "\u001b[0;31mKeyError\u001b[0m                                  Traceback (most recent call last)",
      "\u001b[0;32m<ipython-input-73-98c8c95ed5cb>\u001b[0m in \u001b[0;36m<module>\u001b[0;34m()\u001b[0m\n\u001b[0;32m----> 1\u001b[0;31m \u001b[0mavg_gdp_in_decade\u001b[0m\u001b[0;34m(\u001b[0m\u001b[0;34m'japan'\u001b[0m\u001b[0;34m,\u001b[0m\u001b[0;34m'asia'\u001b[0m\u001b[0;34m,\u001b[0m\u001b[0;36m1983\u001b[0m\u001b[0;34m)\u001b[0m\u001b[0;34m\u001b[0m\u001b[0m\n\u001b[0m",
      "\u001b[0;32m<ipython-input-72-838d8fa0f1f6>\u001b[0m in \u001b[0;36mavg_gdp_in_decade\u001b[0;34m(country, continent, year)\u001b[0m\n\u001b[1;32m      1\u001b[0m \u001b[0;32mdef\u001b[0m \u001b[0mavg_gdp_in_decade\u001b[0m\u001b[0;34m(\u001b[0m\u001b[0mcountry\u001b[0m\u001b[0;34m,\u001b[0m \u001b[0mcontinent\u001b[0m\u001b[0;34m,\u001b[0m \u001b[0myear\u001b[0m\u001b[0;34m)\u001b[0m\u001b[0;34m:\u001b[0m\u001b[0;34m\u001b[0m\u001b[0m\n\u001b[1;32m      2\u001b[0m     \u001b[0mdf\u001b[0m \u001b[0;34m=\u001b[0m \u001b[0mpandas\u001b[0m\u001b[0;34m.\u001b[0m\u001b[0mread_csv\u001b[0m\u001b[0;34m(\u001b[0m\u001b[0;34m'data/gapminder_gdp_'\u001b[0m \u001b[0;34m+\u001b[0m \u001b[0mcontinent\u001b[0m \u001b[0;34m+\u001b[0m \u001b[0;34m'.csv'\u001b[0m\u001b[0;34m,\u001b[0m \u001b[0mindex_col\u001b[0m\u001b[0;34m=\u001b[0m\u001b[0;36m0\u001b[0m\u001b[0;34m)\u001b[0m\u001b[0;34m\u001b[0m\u001b[0m\n\u001b[0;32m----> 3\u001b[0;31m     \u001b[0mc\u001b[0m \u001b[0;34m=\u001b[0m \u001b[0mdf\u001b[0m\u001b[0;34m.\u001b[0m\u001b[0mix\u001b[0m\u001b[0;34m[\u001b[0m\u001b[0mcountry\u001b[0m\u001b[0;34m]\u001b[0m\u001b[0;34m\u001b[0m\u001b[0m\n\u001b[0m\u001b[1;32m      4\u001b[0m     \u001b[0mgdp_decade\u001b[0m \u001b[0;34m=\u001b[0m \u001b[0;34m'gdpPercap_'\u001b[0m \u001b[0;34m+\u001b[0m \u001b[0mstr\u001b[0m\u001b[0;34m(\u001b[0m\u001b[0myear\u001b[0m \u001b[0;34m//\u001b[0m \u001b[0;36m10\u001b[0m\u001b[0;34m)\u001b[0m\u001b[0;34m\u001b[0m\u001b[0m\n\u001b[1;32m      5\u001b[0m     \u001b[0mtotal\u001b[0m \u001b[0;34m=\u001b[0m \u001b[0;36m0.0\u001b[0m\u001b[0;34m\u001b[0m\u001b[0m\n",
      "\u001b[0;32m/home/softwarecarpentry/anaconda3/lib/python3.6/site-packages/pandas/core/indexing.py\u001b[0m in \u001b[0;36m__getitem__\u001b[0;34m(self, key)\u001b[0m\n\u001b[1;32m     85\u001b[0m         \u001b[0;32melse\u001b[0m\u001b[0;34m:\u001b[0m\u001b[0;34m\u001b[0m\u001b[0m\n\u001b[1;32m     86\u001b[0m             \u001b[0mkey\u001b[0m \u001b[0;34m=\u001b[0m \u001b[0mcom\u001b[0m\u001b[0;34m.\u001b[0m\u001b[0m_apply_if_callable\u001b[0m\u001b[0;34m(\u001b[0m\u001b[0mkey\u001b[0m\u001b[0;34m,\u001b[0m \u001b[0mself\u001b[0m\u001b[0;34m.\u001b[0m\u001b[0mobj\u001b[0m\u001b[0;34m)\u001b[0m\u001b[0;34m\u001b[0m\u001b[0m\n\u001b[0;32m---> 87\u001b[0;31m             \u001b[0;32mreturn\u001b[0m \u001b[0mself\u001b[0m\u001b[0;34m.\u001b[0m\u001b[0m_getitem_axis\u001b[0m\u001b[0;34m(\u001b[0m\u001b[0mkey\u001b[0m\u001b[0;34m,\u001b[0m \u001b[0maxis\u001b[0m\u001b[0;34m=\u001b[0m\u001b[0;36m0\u001b[0m\u001b[0;34m)\u001b[0m\u001b[0;34m\u001b[0m\u001b[0m\n\u001b[0m\u001b[1;32m     88\u001b[0m \u001b[0;34m\u001b[0m\u001b[0m\n\u001b[1;32m     89\u001b[0m     \u001b[0;32mdef\u001b[0m \u001b[0m_get_label\u001b[0m\u001b[0;34m(\u001b[0m\u001b[0mself\u001b[0m\u001b[0;34m,\u001b[0m \u001b[0mlabel\u001b[0m\u001b[0;34m,\u001b[0m \u001b[0maxis\u001b[0m\u001b[0;34m=\u001b[0m\u001b[0;36m0\u001b[0m\u001b[0;34m)\u001b[0m\u001b[0;34m:\u001b[0m\u001b[0;34m\u001b[0m\u001b[0m\n",
      "\u001b[0;32m/home/softwarecarpentry/anaconda3/lib/python3.6/site-packages/pandas/core/indexing.py\u001b[0m in \u001b[0;36m_getitem_axis\u001b[0;34m(self, key, axis)\u001b[0m\n\u001b[1;32m   1030\u001b[0m                     \u001b[0;32mreturn\u001b[0m \u001b[0mself\u001b[0m\u001b[0;34m.\u001b[0m\u001b[0m_get_loc\u001b[0m\u001b[0;34m(\u001b[0m\u001b[0mkey\u001b[0m\u001b[0;34m,\u001b[0m \u001b[0maxis\u001b[0m\u001b[0;34m=\u001b[0m\u001b[0maxis\u001b[0m\u001b[0;34m)\u001b[0m\u001b[0;34m\u001b[0m\u001b[0m\n\u001b[1;32m   1031\u001b[0m \u001b[0;34m\u001b[0m\u001b[0m\n\u001b[0;32m-> 1032\u001b[0;31m             \u001b[0;32mreturn\u001b[0m \u001b[0mself\u001b[0m\u001b[0;34m.\u001b[0m\u001b[0m_get_label\u001b[0m\u001b[0;34m(\u001b[0m\u001b[0mkey\u001b[0m\u001b[0;34m,\u001b[0m \u001b[0maxis\u001b[0m\u001b[0;34m=\u001b[0m\u001b[0maxis\u001b[0m\u001b[0;34m)\u001b[0m\u001b[0;34m\u001b[0m\u001b[0m\n\u001b[0m\u001b[1;32m   1033\u001b[0m \u001b[0;34m\u001b[0m\u001b[0m\n\u001b[1;32m   1034\u001b[0m     \u001b[0;32mdef\u001b[0m \u001b[0m_getitem_iterable\u001b[0m\u001b[0;34m(\u001b[0m\u001b[0mself\u001b[0m\u001b[0;34m,\u001b[0m \u001b[0mkey\u001b[0m\u001b[0;34m,\u001b[0m \u001b[0maxis\u001b[0m\u001b[0;34m=\u001b[0m\u001b[0;36m0\u001b[0m\u001b[0;34m)\u001b[0m\u001b[0;34m:\u001b[0m\u001b[0;34m\u001b[0m\u001b[0m\n",
      "\u001b[0;32m/home/softwarecarpentry/anaconda3/lib/python3.6/site-packages/pandas/core/indexing.py\u001b[0m in \u001b[0;36m_get_label\u001b[0;34m(self, label, axis)\u001b[0m\n\u001b[1;32m    100\u001b[0m             \u001b[0;32mraise\u001b[0m \u001b[0mIndexingError\u001b[0m\u001b[0;34m(\u001b[0m\u001b[0;34m'no slices here, handle elsewhere'\u001b[0m\u001b[0;34m)\u001b[0m\u001b[0;34m\u001b[0m\u001b[0m\n\u001b[1;32m    101\u001b[0m \u001b[0;34m\u001b[0m\u001b[0m\n\u001b[0;32m--> 102\u001b[0;31m         \u001b[0;32mreturn\u001b[0m \u001b[0mself\u001b[0m\u001b[0;34m.\u001b[0m\u001b[0mobj\u001b[0m\u001b[0;34m.\u001b[0m\u001b[0m_xs\u001b[0m\u001b[0;34m(\u001b[0m\u001b[0mlabel\u001b[0m\u001b[0;34m,\u001b[0m \u001b[0maxis\u001b[0m\u001b[0;34m=\u001b[0m\u001b[0maxis\u001b[0m\u001b[0;34m)\u001b[0m\u001b[0;34m\u001b[0m\u001b[0m\n\u001b[0m\u001b[1;32m    103\u001b[0m \u001b[0;34m\u001b[0m\u001b[0m\n\u001b[1;32m    104\u001b[0m     \u001b[0;32mdef\u001b[0m \u001b[0m_get_loc\u001b[0m\u001b[0;34m(\u001b[0m\u001b[0mself\u001b[0m\u001b[0;34m,\u001b[0m \u001b[0mkey\u001b[0m\u001b[0;34m,\u001b[0m \u001b[0maxis\u001b[0m\u001b[0;34m=\u001b[0m\u001b[0;36m0\u001b[0m\u001b[0;34m)\u001b[0m\u001b[0;34m:\u001b[0m\u001b[0;34m\u001b[0m\u001b[0m\n",
      "\u001b[0;32m/home/softwarecarpentry/anaconda3/lib/python3.6/site-packages/pandas/core/generic.py\u001b[0m in \u001b[0;36mxs\u001b[0;34m(self, key, axis, level, drop_level)\u001b[0m\n\u001b[1;32m   1777\u001b[0m                                                       drop_level=drop_level)\n\u001b[1;32m   1778\u001b[0m         \u001b[0;32melse\u001b[0m\u001b[0;34m:\u001b[0m\u001b[0;34m\u001b[0m\u001b[0m\n\u001b[0;32m-> 1779\u001b[0;31m             \u001b[0mloc\u001b[0m \u001b[0;34m=\u001b[0m \u001b[0mself\u001b[0m\u001b[0;34m.\u001b[0m\u001b[0mindex\u001b[0m\u001b[0;34m.\u001b[0m\u001b[0mget_loc\u001b[0m\u001b[0;34m(\u001b[0m\u001b[0mkey\u001b[0m\u001b[0;34m)\u001b[0m\u001b[0;34m\u001b[0m\u001b[0m\n\u001b[0m\u001b[1;32m   1780\u001b[0m \u001b[0;34m\u001b[0m\u001b[0m\n\u001b[1;32m   1781\u001b[0m             \u001b[0;32mif\u001b[0m \u001b[0misinstance\u001b[0m\u001b[0;34m(\u001b[0m\u001b[0mloc\u001b[0m\u001b[0;34m,\u001b[0m \u001b[0mnp\u001b[0m\u001b[0;34m.\u001b[0m\u001b[0mndarray\u001b[0m\u001b[0;34m)\u001b[0m\u001b[0;34m:\u001b[0m\u001b[0;34m\u001b[0m\u001b[0m\n",
      "\u001b[0;32m/home/softwarecarpentry/anaconda3/lib/python3.6/site-packages/pandas/indexes/base.py\u001b[0m in \u001b[0;36mget_loc\u001b[0;34m(self, key, method, tolerance)\u001b[0m\n\u001b[1;32m   2134\u001b[0m                 \u001b[0;32mreturn\u001b[0m \u001b[0mself\u001b[0m\u001b[0;34m.\u001b[0m\u001b[0m_engine\u001b[0m\u001b[0;34m.\u001b[0m\u001b[0mget_loc\u001b[0m\u001b[0;34m(\u001b[0m\u001b[0mkey\u001b[0m\u001b[0;34m)\u001b[0m\u001b[0;34m\u001b[0m\u001b[0m\n\u001b[1;32m   2135\u001b[0m             \u001b[0;32mexcept\u001b[0m \u001b[0mKeyError\u001b[0m\u001b[0;34m:\u001b[0m\u001b[0;34m\u001b[0m\u001b[0m\n\u001b[0;32m-> 2136\u001b[0;31m                 \u001b[0;32mreturn\u001b[0m \u001b[0mself\u001b[0m\u001b[0;34m.\u001b[0m\u001b[0m_engine\u001b[0m\u001b[0;34m.\u001b[0m\u001b[0mget_loc\u001b[0m\u001b[0;34m(\u001b[0m\u001b[0mself\u001b[0m\u001b[0;34m.\u001b[0m\u001b[0m_maybe_cast_indexer\u001b[0m\u001b[0;34m(\u001b[0m\u001b[0mkey\u001b[0m\u001b[0;34m)\u001b[0m\u001b[0;34m)\u001b[0m\u001b[0;34m\u001b[0m\u001b[0m\n\u001b[0m\u001b[1;32m   2137\u001b[0m \u001b[0;34m\u001b[0m\u001b[0m\n\u001b[1;32m   2138\u001b[0m         \u001b[0mindexer\u001b[0m \u001b[0;34m=\u001b[0m \u001b[0mself\u001b[0m\u001b[0;34m.\u001b[0m\u001b[0mget_indexer\u001b[0m\u001b[0;34m(\u001b[0m\u001b[0;34m[\u001b[0m\u001b[0mkey\u001b[0m\u001b[0;34m]\u001b[0m\u001b[0;34m,\u001b[0m \u001b[0mmethod\u001b[0m\u001b[0;34m=\u001b[0m\u001b[0mmethod\u001b[0m\u001b[0;34m,\u001b[0m \u001b[0mtolerance\u001b[0m\u001b[0;34m=\u001b[0m\u001b[0mtolerance\u001b[0m\u001b[0;34m)\u001b[0m\u001b[0;34m\u001b[0m\u001b[0m\n",
      "\u001b[0;32mpandas/index.pyx\u001b[0m in \u001b[0;36mpandas.index.IndexEngine.get_loc (pandas/index.c:4433)\u001b[0;34m()\u001b[0m\n",
      "\u001b[0;32mpandas/index.pyx\u001b[0m in \u001b[0;36mpandas.index.IndexEngine.get_loc (pandas/index.c:4279)\u001b[0;34m()\u001b[0m\n",
      "\u001b[0;32mpandas/src/hashtable_class_helper.pxi\u001b[0m in \u001b[0;36mpandas.hashtable.PyObjectHashTable.get_item (pandas/hashtable.c:13742)\u001b[0;34m()\u001b[0m\n",
      "\u001b[0;32mpandas/src/hashtable_class_helper.pxi\u001b[0m in \u001b[0;36mpandas.hashtable.PyObjectHashTable.get_item (pandas/hashtable.c:13696)\u001b[0;34m()\u001b[0m\n",
      "\u001b[0;31mKeyError\u001b[0m: 'japan'"
     ]
    }
   ],
   "source": [
    "avg_gdp_in_decade('japan','asia',1983)"
   ]
  },
  {
   "cell_type": "markdown",
   "metadata": {},
   "source": [
    "_-----------------------------\n",
    "### 6 Varial Scope\n",
    "\n",
    "- The scope of a variable is the part of a program that can ‘see’ that variable.\n",
    "- There are only so many sensible names for variables.\n",
    "- People using functions shouldn’t have to worry about what variable names the author of the function used.\n",
    "- People writing functions shouldn’t have to worry about what variable names the function’s caller uses.\n",
    "- The part of a program in which a variable is visible is called its scope.\n",
    "\n",
    "\n",
    "    pressure = 103.9\n",
    "\n",
    "    def adjust(t):\n",
    "        temperature = t * 1.43 / pressure\n",
    "        return temperature\n",
    "        \n",
    "- pressure is a global variable.\n",
    "    - Defined outside any particular function.\n",
    "    - Visible everywhere.\n",
    "- t and temperature are local variables in adjust.\n",
    "    - Defined in the function.\n",
    "    - Not visible in the main program.\n",
    "    - Remember: a function parameter is a variable that is automatically assigned a value when the function is called.\n",
    "\n",
    "\n",
    "    print('adjusted:', adjust(0.9))\n",
    "    print('temperature after call:', temperature)\n",
    "\n",
    "    adjusted: 0.01238691049085659\n",
    "\n",
    "    Traceback (most recent call last):\n",
    "      File \"/Users/swcarpentry/foo.py\", line 8, in <module>\n",
    "        print('temperature after call:', temperature)\n",
    "    NameError: name 'temperature' is not defined\n",
    "    Local and Global Variable Use"
   ]
  },
  {
   "cell_type": "code",
   "execution_count": 74,
   "metadata": {
    "collapsed": true
   },
   "outputs": [],
   "source": [
    "pressure = 103.9\n",
    "\n",
    "def adjust(t):\n",
    "    temperature = t * 1.43 / pressure\n",
    "    return temperature"
   ]
  },
  {
   "cell_type": "code",
   "execution_count": 75,
   "metadata": {
    "collapsed": false
   },
   "outputs": [
    {
     "name": "stdout",
     "output_type": "stream",
     "text": [
      "adjusted: 0.01238691049085659\n"
     ]
    }
   ],
   "source": [
    "print('adjusted:', adjust(0.9))"
   ]
  },
  {
   "cell_type": "code",
   "execution_count": 76,
   "metadata": {
    "collapsed": false
   },
   "outputs": [
    {
     "ename": "NameError",
     "evalue": "name 'temperature' is not defined",
     "output_type": "error",
     "traceback": [
      "\u001b[0;31m---------------------------------------------------------------------------\u001b[0m",
      "\u001b[0;31mNameError\u001b[0m                                 Traceback (most recent call last)",
      "\u001b[0;32m<ipython-input-76-a2b8c2927bff>\u001b[0m in \u001b[0;36m<module>\u001b[0;34m()\u001b[0m\n\u001b[0;32m----> 1\u001b[0;31m \u001b[0mprint\u001b[0m\u001b[0;34m(\u001b[0m\u001b[0;34m'temperature after call:'\u001b[0m\u001b[0;34m,\u001b[0m \u001b[0mtemperature\u001b[0m\u001b[0;34m)\u001b[0m\u001b[0;34m\u001b[0m\u001b[0m\n\u001b[0m",
      "\u001b[0;31mNameError\u001b[0m: name 'temperature' is not defined"
     ]
    }
   ],
   "source": [
    "print('temperature after call:', temperature)"
   ]
  },
  {
   "cell_type": "code",
   "execution_count": 77,
   "metadata": {
    "collapsed": false
   },
   "outputs": [
    {
     "name": "stdout",
     "output_type": "stream",
     "text": [
      "adjusted: 0.04128970163618864\n",
      "temperature after call: 3\n"
     ]
    }
   ],
   "source": [
    "temperature = 3\n",
    "print('adjusted:', adjust(temperature))\n",
    "print('temperature after call:', temperature)"
   ]
  },
  {
   "cell_type": "markdown",
   "metadata": {},
   "source": [
    "#### practice problem 2\n",
    "\n",
    "1. Read the code below and try to identify what the errors are without running it.\n",
    "2. Run the code and read the error message. Is it a SyntaxError or an IndentationError?\n",
    "3. Fix the error.\n",
    "4. Repeat steps 2 and 3 until you have fixed all the errors.\n",
    "\n",
    "\n",
    "    def another_function\n",
    "      print(\"Syntax errors are annoying.\")\n",
    "       print(\"But at least python tells us about them!\")\n",
    "      print(\"So they are usually not too hard to fix.\")"
   ]
  },
  {
   "cell_type": "markdown",
   "metadata": {},
   "source": [
    "##### practice problem 3\n",
    "\n",
    "Read the traceback below, and identify the following:\n",
    "\n",
    "1. How many levels does the traceback have?\n",
    "2. What is the file name where the error occurred?\n",
    "3. What is the function name where the error occurred?\n",
    "4. On which line number in this function did the error occurr?\n",
    "5. What is the type of error?\n",
    "6. What is the error message?\n",
    "\n",
    "\n",
    "    ---------------------------------------------------------------------------\n",
    "    KeyError                                  Traceback (most recent call last)\n",
    "    <ipython-input-2-e4c4cbafeeb5> in <module>()\n",
    "          1 import errors_02\n",
    "    ----> 2 errors_02.print_friday_message()\n",
    "\n",
    "    /Users/ghopper/thesis/code/errors_02.py in print_friday_message()\n",
    "         13\n",
    "         14 def print_friday_message():\n",
    "    ---> 15     print_message(\"Friday\")\n",
    "\n",
    "    /Users/ghopper/thesis/code/errors_02.py in print_message(day)\n",
    "          9         \"sunday\": \"Aw, the weekend is almost over.\"\n",
    "         10     }\n",
    "    ---> 11     print(messages[day])\n",
    "         12\n",
    "         13\n",
    "\n",
    "    KeyError: 'Friday'"
   ]
  },
  {
   "cell_type": "markdown",
   "metadata": {},
   "source": [
    "### 7. Conditonals\n",
    "\n",
    "Use if statements to control whether or not a block of code is executed.\n",
    "An if statement (more properly called a conditional statement) controls whether some block of code is executed or not.\n",
    "Structure is similar to a for statement:\n",
    "First line opens with if and ends with a colon\n",
    "Body containing one or more statements is indented (usually by 4 spaces)\n",
    "\n",
    "\n",
    "    mass = 3.54\n",
    "    if mass > 3.0:\n",
    "        print(mass, 'is large')\n",
    "\n",
    "    mass = 2.07\n",
    "    if mass > 3.0:\n",
    "        print (mass, 'is large')\n",
    "\n",
    "\n",
    "    3.54 is large\n",
    "    \n",
    "Conditionals are often used inside loops.\n",
    "Not much point using a conditional when we know the value (as above).\n",
    "But useful when we have a collection to process.\n",
    "\n",
    "\n",
    "    masses = [3.54, 2.07, 9.22, 1.86, 1.71]\n",
    "    for m in masses:\n",
    "        if m > 3.0:\n",
    "            print(m, 'is large')\n",
    "    3.54 is large\n",
    "    9.22 is large\n",
    "    \n",
    "    \n",
    "Use else to execute a block of code when an if condition is not true.\n",
    "else is always attached to if.\n",
    "Allows us to specify an alternative to execute when the if branch isn’t taken.\n",
    "\n",
    "\n",
    "    masses = [3.54, 2.07, 9.22, 1.86, 1.71]\n",
    "    for m in masses:\n",
    "        if m > 3.0:\n",
    "            print(m, 'is large')\n",
    "        else:\n",
    "            print(m, 'is small')\n",
    "    3.54 is large\n",
    "    2.07 is small\n",
    "    9.22 is large\n",
    "    1.86 is small\n",
    "    1.71 is small\n",
    "    \n",
    "    \n",
    "Use elif to specify additional tests.\n",
    "May want to provide several alternative choices, each with its own test.\n",
    "Use elif (short for “else if”) and a condition to specify these.\n",
    "Always associated with an if.\n",
    "Must come before the else (which is the “catch all”).\n",
    "\n",
    "\n",
    "    masses = [3.54, 2.07, 9.22, 1.86, 1.71]\n",
    "    for m in masses:\n",
    "        if m > 9.0:\n",
    "            print(m, 'is HUGE')\n",
    "        elif m > 3.0:\n",
    "            print(m, 'is large')\n",
    "        else:\n",
    "            print(m, 'is small')\n",
    "    3.54 is large\n",
    "    2.07 is small\n",
    "    9.22 is HUGE\n",
    "    1.86 is small\n",
    "    1.71 is small\n",
    "    \n",
    "    \n",
    "Conditions are tested once, in order.\n",
    "Python steps through the branches of the conditional in order, testing each in turn.\n",
    "So ordering matters.\n",
    "\n",
    "\n",
    "    grade = 85\n",
    "    if grade >= 70:\n",
    "        print('grade is C')\n",
    "    elif grade >= 80:\n",
    "        print('grade is B')\n",
    "    elif grade >= 90:\n",
    "        print('grade is A')\n",
    "    grade is C\n",
    "    \n",
    "    \n",
    "Does not automatically go back and re-evaluate if values change.\n",
    "\n",
    "\n",
    "    velocity = 10.0\n",
    "    if velocity > 20.0:\n",
    "        print('moving too fast')\n",
    "    else:\n",
    "        print('adjusting velocity')\n",
    "        velocity = 50.0\n",
    "    adjusting velocity\n",
    "\n",
    "\n",
    "Often use conditionals in a loop to “evolve” the values of variables.\n",
    "\n",
    "\n",
    "    velocity = 10.0\n",
    "    for i in range(5): # execute the loop 5 times\n",
    "        print(i, ':', velocity)\n",
    "        if velocity > 20.0:\n",
    "            print('moving too fast')\n",
    "            velocity = velocity - 5.0\n",
    "        else:\n",
    "            print('moving too slow')\n",
    "            velocity = velocity + 10.0\n",
    "    print('final velocity:', velocity)\n",
    "    \n",
    "                                                                    \n",
    "    0 : 10.0\n",
    "    moving too slow\n",
    "    1 : 20.0\n",
    "    moving too slow\n",
    "    2 : 30.0\n",
    "    moving too fast\n",
    "    3 : 25.0\n",
    "    moving too fast\n",
    "    4 : 20.0\n",
    "    moving too slow\n",
    "    final velocity: 30.0\n",
    "    \n",
    "    \n",
    "Create a table showing variables’ values to trace a program’s execution.\n",
    "\n",
    "|i\t|0|\t.|\t1|\t.|\t2|\t.|\t3|\t.|\t4|\t.|\n",
    "|---|-|--|---|---|---|---|---|---|---|---|\n",
    "|velocity|\t10.0|\t20.0|\t.\t|30.0|\t.\t|25.0|\t.\t|20.0\t|.\t|30.0|\n",
    "\n",
    "The program must have a print statement outside the body of the loop to show the final value of velocity, since its value is updated by the last iteration of the loop.\n",
    "\n",
    "Compound Relations Using and, or, and Parentheses\n",
    "\n",
    "Often, you want some combination of things to be true. You can combine relations within a conditional using and and or. Continuing the example above, suppose you have\n",
    "\n",
    "    mass     = [ 3.54,  2.07,  9.22,  1.86,  1.71]\n",
    "    velocity = [10.00, 20.00, 30.00, 25.00, 20.00]\n",
    "\n",
    "    i = 0\n",
    "    for i in range(5):\n",
    "        if mass[i] > 5 and velocity[i] > 20:\n",
    "            print \"Fast heavy object.  Duck!\"\n",
    "        elif mass[i] > 2 and mass[i] <= 5 and velocity[i] <= 20:\n",
    "            print \"Normal traffic\"\n",
    "        elif mass[i] <= 2 and velocity <= 20:\n",
    "            print \"Slow light object.  Ignore it\"\n",
    "        else:\n",
    "            print \"Whoa!  Something is up with the data.  Check it\"\n",
    "            \n",
    "            \n",
    "Just like with arithmetic, you can and should use parentheses whenever there is possible ambiguity. A good general rule is to always use parentheses when mixing and and or in the same condition. That is, instead of:\n",
    "\n",
    "    if mass[i] <= 2 or mass[i] >= 5 and velocity[i] > 20:\n",
    "    write one of these:\n",
    "\n",
    "    if (mass[i] <= 2 or mass[i] >= 5) and velocity[i] > 20:\n",
    "    if mass[i] <= 2 or (mass[i] >= 5 and velocity[i] > 20):\n",
    "   \n",
    "\n",
    "so it is perfectly clear to a reader (and to Python) what you really mean."
   ]
  },
  {
   "cell_type": "markdown",
   "metadata": {},
   "source": [
    "##### practice 1\n",
    "\n",
    "What does this program print?\n",
    "\n",
    "    pressure = 71.9\n",
    "    if pressure 50.0:\n",
    "        pressure = 25.0\n",
    "    elif pressure <= 50.0:\n",
    "        pressure = 0.0\n",
    "    print(pressure)\n",
    "    \n",
    "###### practice 2\n",
    "Fill in the blanks so that this program creates a new list containing zeroes where the original list’s values were negative and ones where the origina list’s values were positive.\n",
    "\n",
    "    original = [-1.5, 0.2, 0.4, 0.0, -1.3, 0.4]\n",
    "    result = ____\n",
    "    for value in original:\n",
    "        if ____:\n",
    "            result.append(0)\n",
    "        else:\n",
    "            ____\n",
    "    print(result)\n",
    "    \n",
    "    \n",
    "    [0, 1, 1, 1, 0, 1]\n"
   ]
  },
  {
   "cell_type": "raw",
   "metadata": {},
   "source": [
    "Using Functions With Conditionals in Pandas\n",
    "\n",
    "Functions will often contain conditionals. Here is a short example that will indicate which quartile the argument is in based on hand-coded values for the quartile cut points.\n",
    "\n",
    "\n",
    "        def calculate_life_quartile(exp):\n",
    "            if exp < 58.41:\n",
    "                # This observation is in the first quartile\n",
    "                return 1\n",
    "            elif exp >= 58.41 and exp < 67.05:\n",
    "                # This observation is in the second quartile\n",
    "               return 2\n",
    "            elif exp >= 67.05 and exp < 71.70:\n",
    "                # This observation is in the third quartile\n",
    "               return 3\n",
    "            elif exp >= 71.70:\n",
    "                # This observation is in the fourth quartile\n",
    "               return 4\n",
    "            else:\n",
    "                # This observation has bad data\n",
    "               return None\n",
    "\n",
    "        calculate_life_quartile(62.5)\n",
    "\n",
    "        2\n",
    "    \n",
    "That function would typically be used within a for loop, but Pandas has a different, more efficient way of doing the same thing, and that is by applying a function to a dataframe or a portion of a dataframe. Here is an example, using the definition above.\n",
    "\n",
    "    data = pd.read_csv('Americas-data.csv')\n",
    "    data['life_qrtl'] = data['lifeExp'].apply(calculate_life_quartile)\n",
    "\n",
    "There is a lot in that second line, so let’s take it piece by piece. On the right side of the = we start with data['lifeExp'], which is the column in the dataframe called data labeled lifExp. We use the apply() to do what it says, apply the calculate_life_quartile to the value of this column for every row in the dataframe."
   ]
  },
  {
   "cell_type": "code",
   "execution_count": 78,
   "metadata": {
    "collapsed": false
   },
   "outputs": [
    {
     "data": {
      "text/plain": [
       "2"
      ]
     },
     "execution_count": 78,
     "metadata": {},
     "output_type": "execute_result"
    }
   ],
   "source": [
    "        def calculate_life_quartile(exp):\n",
    "            if exp < 58.41:\n",
    "                # This observation is in the first quartile\n",
    "                return 1\n",
    "            elif exp >= 58.41 and exp < 67.05:\n",
    "                # This observation is in the second quartile\n",
    "               return 2\n",
    "            elif exp >= 67.05 and exp < 71.70:\n",
    "                # This observation is in the third quartile\n",
    "               return 3\n",
    "            elif exp >= 71.70:\n",
    "                # This observation is in the fourth quartile\n",
    "               return 4\n",
    "            else:\n",
    "                # This observation has bad data\n",
    "               return None\n",
    "\n",
    "        calculate_life_quartile(62.5)\n",
    "\n",
    "        2"
   ]
  },
  {
   "cell_type": "code",
   "execution_count": 79,
   "metadata": {
    "collapsed": false
   },
   "outputs": [
    {
     "ename": "NameError",
     "evalue": "name 'data_conditionals' is not defined",
     "output_type": "error",
     "traceback": [
      "\u001b[0;31m---------------------------------------------------------------------------\u001b[0m",
      "\u001b[0;31mNameError\u001b[0m                                 Traceback (most recent call last)",
      "\u001b[0;32m<ipython-input-79-cd77982d1eba>\u001b[0m in \u001b[0;36m<module>\u001b[0;34m()\u001b[0m\n\u001b[0;32m----> 1\u001b[0;31m \u001b[0mdata_conditionals\u001b[0m\u001b[0;34m\u001b[0m\u001b[0m\n\u001b[0m",
      "\u001b[0;31mNameError\u001b[0m: name 'data_conditionals' is not defined"
     ]
    }
   ],
   "source": [
    "data_conditionals"
   ]
  },
  {
   "cell_type": "code",
   "execution_count": 80,
   "metadata": {
    "collapsed": true
   },
   "outputs": [
    {
     "ename": "KeyError",
     "evalue": "'lifeExp'",
     "output_type": "error",
     "traceback": [
      "\u001b[0;31m---------------------------------------------------------------------------\u001b[0m",
      "\u001b[0;31mKeyError\u001b[0m                                  Traceback (most recent call last)",
      "\u001b[0;32m/home/softwarecarpentry/anaconda3/lib/python3.6/site-packages/pandas/indexes/base.py\u001b[0m in \u001b[0;36mget_loc\u001b[0;34m(self, key, method, tolerance)\u001b[0m\n\u001b[1;32m   2133\u001b[0m             \u001b[0;32mtry\u001b[0m\u001b[0;34m:\u001b[0m\u001b[0;34m\u001b[0m\u001b[0m\n\u001b[0;32m-> 2134\u001b[0;31m                 \u001b[0;32mreturn\u001b[0m \u001b[0mself\u001b[0m\u001b[0;34m.\u001b[0m\u001b[0m_engine\u001b[0m\u001b[0;34m.\u001b[0m\u001b[0mget_loc\u001b[0m\u001b[0;34m(\u001b[0m\u001b[0mkey\u001b[0m\u001b[0;34m)\u001b[0m\u001b[0;34m\u001b[0m\u001b[0m\n\u001b[0m\u001b[1;32m   2135\u001b[0m             \u001b[0;32mexcept\u001b[0m \u001b[0mKeyError\u001b[0m\u001b[0;34m:\u001b[0m\u001b[0;34m\u001b[0m\u001b[0m\n",
      "\u001b[0;32mpandas/index.pyx\u001b[0m in \u001b[0;36mpandas.index.IndexEngine.get_loc (pandas/index.c:4433)\u001b[0;34m()\u001b[0m\n",
      "\u001b[0;32mpandas/index.pyx\u001b[0m in \u001b[0;36mpandas.index.IndexEngine.get_loc (pandas/index.c:4279)\u001b[0;34m()\u001b[0m\n",
      "\u001b[0;32mpandas/src/hashtable_class_helper.pxi\u001b[0m in \u001b[0;36mpandas.hashtable.PyObjectHashTable.get_item (pandas/hashtable.c:13742)\u001b[0;34m()\u001b[0m\n",
      "\u001b[0;32mpandas/src/hashtable_class_helper.pxi\u001b[0m in \u001b[0;36mpandas.hashtable.PyObjectHashTable.get_item (pandas/hashtable.c:13696)\u001b[0;34m()\u001b[0m\n",
      "\u001b[0;31mKeyError\u001b[0m: 'lifeExp'",
      "\nDuring handling of the above exception, another exception occurred:\n",
      "\u001b[0;31mKeyError\u001b[0m                                  Traceback (most recent call last)",
      "\u001b[0;32m<ipython-input-80-84baf53d2f8d>\u001b[0m in \u001b[0;36m<module>\u001b[0;34m()\u001b[0m\n\u001b[1;32m      1\u001b[0m \u001b[0mdata_conditionals\u001b[0m \u001b[0;34m=\u001b[0m \u001b[0mpandas\u001b[0m\u001b[0;34m.\u001b[0m\u001b[0mread_csv\u001b[0m\u001b[0;34m(\u001b[0m\u001b[0;34m'data/gapminder_all.csv'\u001b[0m\u001b[0;34m)\u001b[0m\u001b[0;34m\u001b[0m\u001b[0m\n\u001b[0;32m----> 2\u001b[0;31m \u001b[0mdata_conditionals\u001b[0m\u001b[0;34m[\u001b[0m\u001b[0;34m'life_qrtl'\u001b[0m\u001b[0;34m]\u001b[0m \u001b[0;34m=\u001b[0m \u001b[0mdata_conditionals\u001b[0m\u001b[0;34m[\u001b[0m\u001b[0;34m'lifeExp'\u001b[0m\u001b[0;34m]\u001b[0m\u001b[0;34m.\u001b[0m\u001b[0mapply\u001b[0m\u001b[0;34m(\u001b[0m\u001b[0mcalculate_life_quartile\u001b[0m\u001b[0;34m)\u001b[0m\u001b[0;34m\u001b[0m\u001b[0m\n\u001b[0m",
      "\u001b[0;32m/home/softwarecarpentry/anaconda3/lib/python3.6/site-packages/pandas/core/frame.py\u001b[0m in \u001b[0;36m__getitem__\u001b[0;34m(self, key)\u001b[0m\n\u001b[1;32m   2057\u001b[0m             \u001b[0;32mreturn\u001b[0m \u001b[0mself\u001b[0m\u001b[0;34m.\u001b[0m\u001b[0m_getitem_multilevel\u001b[0m\u001b[0;34m(\u001b[0m\u001b[0mkey\u001b[0m\u001b[0;34m)\u001b[0m\u001b[0;34m\u001b[0m\u001b[0m\n\u001b[1;32m   2058\u001b[0m         \u001b[0;32melse\u001b[0m\u001b[0;34m:\u001b[0m\u001b[0;34m\u001b[0m\u001b[0m\n\u001b[0;32m-> 2059\u001b[0;31m             \u001b[0;32mreturn\u001b[0m \u001b[0mself\u001b[0m\u001b[0;34m.\u001b[0m\u001b[0m_getitem_column\u001b[0m\u001b[0;34m(\u001b[0m\u001b[0mkey\u001b[0m\u001b[0;34m)\u001b[0m\u001b[0;34m\u001b[0m\u001b[0m\n\u001b[0m\u001b[1;32m   2060\u001b[0m \u001b[0;34m\u001b[0m\u001b[0m\n\u001b[1;32m   2061\u001b[0m     \u001b[0;32mdef\u001b[0m \u001b[0m_getitem_column\u001b[0m\u001b[0;34m(\u001b[0m\u001b[0mself\u001b[0m\u001b[0;34m,\u001b[0m \u001b[0mkey\u001b[0m\u001b[0;34m)\u001b[0m\u001b[0;34m:\u001b[0m\u001b[0;34m\u001b[0m\u001b[0m\n",
      "\u001b[0;32m/home/softwarecarpentry/anaconda3/lib/python3.6/site-packages/pandas/core/frame.py\u001b[0m in \u001b[0;36m_getitem_column\u001b[0;34m(self, key)\u001b[0m\n\u001b[1;32m   2064\u001b[0m         \u001b[0;31m# get column\u001b[0m\u001b[0;34m\u001b[0m\u001b[0;34m\u001b[0m\u001b[0m\n\u001b[1;32m   2065\u001b[0m         \u001b[0;32mif\u001b[0m \u001b[0mself\u001b[0m\u001b[0;34m.\u001b[0m\u001b[0mcolumns\u001b[0m\u001b[0;34m.\u001b[0m\u001b[0mis_unique\u001b[0m\u001b[0;34m:\u001b[0m\u001b[0;34m\u001b[0m\u001b[0m\n\u001b[0;32m-> 2066\u001b[0;31m             \u001b[0;32mreturn\u001b[0m \u001b[0mself\u001b[0m\u001b[0;34m.\u001b[0m\u001b[0m_get_item_cache\u001b[0m\u001b[0;34m(\u001b[0m\u001b[0mkey\u001b[0m\u001b[0;34m)\u001b[0m\u001b[0;34m\u001b[0m\u001b[0m\n\u001b[0m\u001b[1;32m   2067\u001b[0m \u001b[0;34m\u001b[0m\u001b[0m\n\u001b[1;32m   2068\u001b[0m         \u001b[0;31m# duplicate columns & possible reduce dimensionality\u001b[0m\u001b[0;34m\u001b[0m\u001b[0;34m\u001b[0m\u001b[0m\n",
      "\u001b[0;32m/home/softwarecarpentry/anaconda3/lib/python3.6/site-packages/pandas/core/generic.py\u001b[0m in \u001b[0;36m_get_item_cache\u001b[0;34m(self, item)\u001b[0m\n\u001b[1;32m   1384\u001b[0m         \u001b[0mres\u001b[0m \u001b[0;34m=\u001b[0m \u001b[0mcache\u001b[0m\u001b[0;34m.\u001b[0m\u001b[0mget\u001b[0m\u001b[0;34m(\u001b[0m\u001b[0mitem\u001b[0m\u001b[0;34m)\u001b[0m\u001b[0;34m\u001b[0m\u001b[0m\n\u001b[1;32m   1385\u001b[0m         \u001b[0;32mif\u001b[0m \u001b[0mres\u001b[0m \u001b[0;32mis\u001b[0m \u001b[0;32mNone\u001b[0m\u001b[0;34m:\u001b[0m\u001b[0;34m\u001b[0m\u001b[0m\n\u001b[0;32m-> 1386\u001b[0;31m             \u001b[0mvalues\u001b[0m \u001b[0;34m=\u001b[0m \u001b[0mself\u001b[0m\u001b[0;34m.\u001b[0m\u001b[0m_data\u001b[0m\u001b[0;34m.\u001b[0m\u001b[0mget\u001b[0m\u001b[0;34m(\u001b[0m\u001b[0mitem\u001b[0m\u001b[0;34m)\u001b[0m\u001b[0;34m\u001b[0m\u001b[0m\n\u001b[0m\u001b[1;32m   1387\u001b[0m             \u001b[0mres\u001b[0m \u001b[0;34m=\u001b[0m \u001b[0mself\u001b[0m\u001b[0;34m.\u001b[0m\u001b[0m_box_item_values\u001b[0m\u001b[0;34m(\u001b[0m\u001b[0mitem\u001b[0m\u001b[0;34m,\u001b[0m \u001b[0mvalues\u001b[0m\u001b[0;34m)\u001b[0m\u001b[0;34m\u001b[0m\u001b[0m\n\u001b[1;32m   1388\u001b[0m             \u001b[0mcache\u001b[0m\u001b[0;34m[\u001b[0m\u001b[0mitem\u001b[0m\u001b[0;34m]\u001b[0m \u001b[0;34m=\u001b[0m \u001b[0mres\u001b[0m\u001b[0;34m\u001b[0m\u001b[0m\n",
      "\u001b[0;32m/home/softwarecarpentry/anaconda3/lib/python3.6/site-packages/pandas/core/internals.py\u001b[0m in \u001b[0;36mget\u001b[0;34m(self, item, fastpath)\u001b[0m\n\u001b[1;32m   3541\u001b[0m \u001b[0;34m\u001b[0m\u001b[0m\n\u001b[1;32m   3542\u001b[0m             \u001b[0;32mif\u001b[0m \u001b[0;32mnot\u001b[0m \u001b[0misnull\u001b[0m\u001b[0;34m(\u001b[0m\u001b[0mitem\u001b[0m\u001b[0;34m)\u001b[0m\u001b[0;34m:\u001b[0m\u001b[0;34m\u001b[0m\u001b[0m\n\u001b[0;32m-> 3543\u001b[0;31m                 \u001b[0mloc\u001b[0m \u001b[0;34m=\u001b[0m \u001b[0mself\u001b[0m\u001b[0;34m.\u001b[0m\u001b[0mitems\u001b[0m\u001b[0;34m.\u001b[0m\u001b[0mget_loc\u001b[0m\u001b[0;34m(\u001b[0m\u001b[0mitem\u001b[0m\u001b[0;34m)\u001b[0m\u001b[0;34m\u001b[0m\u001b[0m\n\u001b[0m\u001b[1;32m   3544\u001b[0m             \u001b[0;32melse\u001b[0m\u001b[0;34m:\u001b[0m\u001b[0;34m\u001b[0m\u001b[0m\n\u001b[1;32m   3545\u001b[0m                 \u001b[0mindexer\u001b[0m \u001b[0;34m=\u001b[0m \u001b[0mnp\u001b[0m\u001b[0;34m.\u001b[0m\u001b[0marange\u001b[0m\u001b[0;34m(\u001b[0m\u001b[0mlen\u001b[0m\u001b[0;34m(\u001b[0m\u001b[0mself\u001b[0m\u001b[0;34m.\u001b[0m\u001b[0mitems\u001b[0m\u001b[0;34m)\u001b[0m\u001b[0;34m)\u001b[0m\u001b[0;34m[\u001b[0m\u001b[0misnull\u001b[0m\u001b[0;34m(\u001b[0m\u001b[0mself\u001b[0m\u001b[0;34m.\u001b[0m\u001b[0mitems\u001b[0m\u001b[0;34m)\u001b[0m\u001b[0;34m]\u001b[0m\u001b[0;34m\u001b[0m\u001b[0m\n",
      "\u001b[0;32m/home/softwarecarpentry/anaconda3/lib/python3.6/site-packages/pandas/indexes/base.py\u001b[0m in \u001b[0;36mget_loc\u001b[0;34m(self, key, method, tolerance)\u001b[0m\n\u001b[1;32m   2134\u001b[0m                 \u001b[0;32mreturn\u001b[0m \u001b[0mself\u001b[0m\u001b[0;34m.\u001b[0m\u001b[0m_engine\u001b[0m\u001b[0;34m.\u001b[0m\u001b[0mget_loc\u001b[0m\u001b[0;34m(\u001b[0m\u001b[0mkey\u001b[0m\u001b[0;34m)\u001b[0m\u001b[0;34m\u001b[0m\u001b[0m\n\u001b[1;32m   2135\u001b[0m             \u001b[0;32mexcept\u001b[0m \u001b[0mKeyError\u001b[0m\u001b[0;34m:\u001b[0m\u001b[0;34m\u001b[0m\u001b[0m\n\u001b[0;32m-> 2136\u001b[0;31m                 \u001b[0;32mreturn\u001b[0m \u001b[0mself\u001b[0m\u001b[0;34m.\u001b[0m\u001b[0m_engine\u001b[0m\u001b[0;34m.\u001b[0m\u001b[0mget_loc\u001b[0m\u001b[0;34m(\u001b[0m\u001b[0mself\u001b[0m\u001b[0;34m.\u001b[0m\u001b[0m_maybe_cast_indexer\u001b[0m\u001b[0;34m(\u001b[0m\u001b[0mkey\u001b[0m\u001b[0;34m)\u001b[0m\u001b[0;34m)\u001b[0m\u001b[0;34m\u001b[0m\u001b[0m\n\u001b[0m\u001b[1;32m   2137\u001b[0m \u001b[0;34m\u001b[0m\u001b[0m\n\u001b[1;32m   2138\u001b[0m         \u001b[0mindexer\u001b[0m \u001b[0;34m=\u001b[0m \u001b[0mself\u001b[0m\u001b[0;34m.\u001b[0m\u001b[0mget_indexer\u001b[0m\u001b[0;34m(\u001b[0m\u001b[0;34m[\u001b[0m\u001b[0mkey\u001b[0m\u001b[0;34m]\u001b[0m\u001b[0;34m,\u001b[0m \u001b[0mmethod\u001b[0m\u001b[0;34m=\u001b[0m\u001b[0mmethod\u001b[0m\u001b[0;34m,\u001b[0m \u001b[0mtolerance\u001b[0m\u001b[0;34m=\u001b[0m\u001b[0mtolerance\u001b[0m\u001b[0;34m)\u001b[0m\u001b[0;34m\u001b[0m\u001b[0m\n",
      "\u001b[0;32mpandas/index.pyx\u001b[0m in \u001b[0;36mpandas.index.IndexEngine.get_loc (pandas/index.c:4433)\u001b[0;34m()\u001b[0m\n",
      "\u001b[0;32mpandas/index.pyx\u001b[0m in \u001b[0;36mpandas.index.IndexEngine.get_loc (pandas/index.c:4279)\u001b[0;34m()\u001b[0m\n",
      "\u001b[0;32mpandas/src/hashtable_class_helper.pxi\u001b[0m in \u001b[0;36mpandas.hashtable.PyObjectHashTable.get_item (pandas/hashtable.c:13742)\u001b[0;34m()\u001b[0m\n",
      "\u001b[0;32mpandas/src/hashtable_class_helper.pxi\u001b[0m in \u001b[0;36mpandas.hashtable.PyObjectHashTable.get_item (pandas/hashtable.c:13696)\u001b[0;34m()\u001b[0m\n",
      "\u001b[0;31mKeyError\u001b[0m: 'lifeExp'"
     ]
    }
   ],
   "source": [
    "data_conditionals = pandas.read_csv('data/gapminder_all.csv')\n",
    "data_conditionals['life_qrtl'] = data_conditionals['lifeExp'].apply(calculate_life_quartile)"
   ]
  },
  {
   "cell_type": "markdown",
   "metadata": {},
   "source": [
    "### Follow standard Python style in your code.\n",
    "\n",
    "PEP8: a style guide for Python that discusses topics such as how you should name variables, how you should use indentation in your code, how you should structure your import statements, etc. Adhering to PEP8 makes it easier for other Python developers to read and understand your code, and to understand what their contributions should look like. The PEP8 application and Python library can check your code for compliance with PEP8.\n",
    "\n",
    "Use assertions to check for internal errors.\n",
    "FIXME\n",
    "\n",
    "Use docstrings to provide online help.\n",
    "If the first thing in a function is a character string that is not assigned to a variable, Python attaches it to the function as the online help.\n",
    "Called a docstring (short for “documentation string”).\n",
    "\n",
    "    def average(values):\n",
    "        \"Return average of values, or None if no values are supplied.\"\n",
    "\n",
    "        if len(values) == 0:\n",
    "            return None\n",
    "        return sum(values) / average(values)\n",
    "\n",
    "    help(average)\n",
    "    Help on function average in module __main__:\n",
    "\n",
    "    average(values)\n",
    "        Return average of values, or None if no values are supplied.\n",
    "    \n",
    "    \n",
    "Multiline Strings\n",
    "\n",
    "Often use multiline strings for documentation. These start and end with three quote characters (either single or double) and end with three matching characters.\n",
    "\n",
    "    \"\"\"This string spans\n",
    "    multiple lines.\n",
    "\n",
    "    Blank lines are allowed.\"\"\""
   ]
  },
  {
   "cell_type": "markdown",
   "metadata": {},
   "source": [
    "----------------------\n",
    "\n",
    "## Other things"
   ]
  },
  {
   "cell_type": "code",
   "execution_count": null,
   "metadata": {
    "collapsed": false
   },
   "outputs": [],
   "source": [
    "ls"
   ]
  },
  {
   "cell_type": "code",
   "execution_count": null,
   "metadata": {
    "collapsed": false
   },
   "outputs": [],
   "source": [
    "ls data/"
   ]
  },
  {
   "cell_type": "code",
   "execution_count": null,
   "metadata": {
    "collapsed": false
   },
   "outputs": [],
   "source": []
  },
  {
   "cell_type": "code",
   "execution_count": null,
   "metadata": {
    "collapsed": true
   },
   "outputs": [],
   "source": []
  },
  {
   "cell_type": "code",
   "execution_count": null,
   "metadata": {
    "collapsed": true
   },
   "outputs": [],
   "source": []
  },
  {
   "cell_type": "code",
   "execution_count": null,
   "metadata": {
    "collapsed": true
   },
   "outputs": [],
   "source": []
  }
 ],
 "metadata": {
  "kernelspec": {
   "display_name": "Python 3",
   "language": "python",
   "name": "python3"
  },
  "language_info": {
   "codemirror_mode": {
    "name": "ipython",
    "version": 3
   },
   "file_extension": ".py",
   "mimetype": "text/x-python",
   "name": "python",
   "nbconvert_exporter": "python",
   "pygments_lexer": "ipython3",
   "version": "3.6.0"
  }
 },
 "nbformat": 4,
 "nbformat_minor": 2
}
